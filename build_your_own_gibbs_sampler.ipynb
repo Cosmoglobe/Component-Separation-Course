{
 "cells": [
  {
   "cell_type": "markdown",
   "id": "7c808935-d50b-4dcc-b2db-45cd9464a946",
   "metadata": {},
   "source": [
    "# Component Separation Using Bayesian Methods\n",
    "\n"
   ]
  },
  {
   "cell_type": "markdown",
   "id": "f54ba897-65a6-4f19-83d5-76ecb6117456",
   "metadata": {},
   "source": [
    "## Chapter 1 - Simple Test Case\n",
    "Before we move on to any real data, let us take a step back and look at a couple ways to solve for parameters from a distribution. \n",
    "\n",
    "First let us draw 1000 samples from a Gaussian distribution and look at a histogram of the result. \n",
    "\n",
    "As a reminder, a Gaussian distribution for parameter $x$ with mean $\\mu$ and standard deviation $\\sigma$ is given by\n",
    "\n",
    "\\begin{equation}\n",
    "p(x) = \\frac{1}{\\sqrt{2 \\pi \\sigma^2}} e^{-\\frac{(x-\\mu)^2}{2\\sigma^2}}.\n",
    "\\end{equation}"
   ]
  },
  {
   "cell_type": "code",
   "execution_count": 75,
   "id": "57ce5b05-e867-4262-979c-1192e82d7b9c",
   "metadata": {},
   "outputs": [
    {
     "data": {
      "image/png": "[encoded data removed]",
      "text/plain": [
       "<Figure size 432x288 with 1 Axes>"
      ]
     },
     "metadata": {
      "needs_background": "light"
     },
     "output_type": "display_data"
    }
   ],
   "source": [
    "import numpy as np\n",
    "import matplotlib.pyplot as plt\n",
    "\n",
    "ndraws = 1000\n",
    "mu     = 10.\n",
    "sigma  = 1.\n",
    "\n",
    "data = np.zeros(ndraws)\n",
    "for i in range(ndraws):\n",
    "    data[i] = np.random.normal(mu,sigma)\n",
    "\n",
    "plt.hist(data,bins=30)\n",
    "plt.xlabel('Amplitude',size=15)\n",
    "plt.ylabel('Bin Count',size=15)\n",
    "plt.axvline(mu,color='k',linestyle='--')\n",
    "plt.axvline(mu-sigma,color='k',linestyle='--')\n",
    "plt.axvline(mu+sigma,color='k',linestyle='--')\n",
    "plt.show()"
   ]
  },
  {
   "cell_type": "markdown",
   "id": "47484222-b704-462f-b925-3ac12ff9bc50",
   "metadata": {},
   "source": [
    "Now let us suppose we only have the `data` vector defined above, and want to find the mean value of that data. How do we go about that?\n",
    "\n",
    "The first step is always to craft a data model. Let us switch to an observational standpoint. We start by assuming that the true value of the data $\\mu'$ is a single value who's obserbed value has been obscured by some underlying Gaussian noise, i.e. $x = \\mu' + n$ where $x$ is the data, and $n$ is some Gaussian noise. We will generalize this to the following equation, which ought to be baked into your memory\n",
    "\n",
    "\\begin{equation}\n",
    "d = s + n\n",
    "\\end{equation}\n",
    "\n",
    "where $d$ is the observed data, $s$ is the true underlying signal, and $n$ is again a noise term. This formalism is the basis of our component separation methods and will be expanded upon further. Down the road."
   ]
  },
  {
   "cell_type": "markdown",
   "id": "dd2e86f4-4b97-435d-80ee-d5551dcf8bfc",
   "metadata": {},
   "source": [
    "### Maximum-Likelihood Solution\n",
    "\n",
    "Now that we have a simple data model, how does one go about actually determining the true underlying signal $s$? A good starting point is by finding what is called the maximum-likelihood solution, using maximum likelihood estimation (MLE). A cursory Google search for maximum likelihood estimation will provide a mix of math heavy resources (like Wikipedia), and some practical examples (like towardsdatascience). \n",
    "\n",
    "Here we will stick with a Gaussian assumption, i.e. that the noise inherent in the data has a Gaussian form. \n",
    "\n",
    "For any observed point $x_i$, the probability of observing that data point, given the underlying mean ($\\mu$) and standard deviation ($\\sigma$) of the distribution is given by\n",
    "\n",
    "$p(x_i|\\mu,\\,\\sigma) = \\frac{1}{\\sqrt{2 \\pi \\sigma^2}} e^{-\\frac{(x_i-\\mu)^2}{2\\sigma^2}}$,\n",
    "\n",
    "and the probability of observing say 3 data points $x_1$, $x_2$, and $x_3$ is given by \n",
    "\n",
    "$p(x_1,x_2,x_3|\\mu,\\,\\sigma) = \\frac{1}{\\sqrt{2 \\pi \\sigma^2}} e^{-\\frac{(x_1-\\mu)^2}{2\\sigma^2}}\\times\\frac{1}{\\sqrt{2 \\pi \\sigma^2}} e^{-\\frac{(x_2-\\mu)^2}{2\\sigma^2}}\\times\\frac{1}{\\sqrt{2 \\pi \\sigma^2}} e^{-\\frac{(x_3-\\mu)^2}{2\\sigma^2}}$.\n",
    "\n",
    "Let us take all of our observations into account and condense our probability expression (the likelihood) to be\n",
    "\n",
    "\\begin{equation}\n",
    "p(\\vec{x}|\\mu,\\,\\sigma) = {\\displaystyle \\prod_{i=1}^{1000}}\\frac{1}{\\sqrt{2 \\pi \\sigma^2}} e^{-\\frac{(x_i-\\mu)^2}{2\\sigma^2}}\n",
    "\\end{equation}\n",
    "\n",
    "From our Calculus experience, we may note that a sure fire way to determine the maximum or minimum of a function is by taking its derivative. However we can tell by looking at the above equation that taking the derivative of this thing will be a cumbersome operation.\n",
    "\n",
    "Those versed in MLE will be quick to point out that taking the natural logarithm of the above expression gives us something nice to work with!\n",
    "\n",
    "To be explicit, finding the maximum likelihood solution involves finding $\\mu$ where\n",
    "   \n",
    "\\begin{equation}\n",
    "\\frac{\\partial \\ln (p(\\vec{x}|\\mu,\\,\\sigma))}{\\partial \\mu} = 0.\n",
    "\\end{equation}\n",
    "\n",
    "Before we move on, let us touch on a couple final pieces of information which will be important for the future. First let's consider the equation we are solving here $p(\\vec{x}|\\mu,\\,\\sigma)$. This equation reads \"probability of the data given the parameters $\\mu$ and $\\sigma$. Since we already know the data, and don't know the values of $\\mu$ and $\\sigma$ a priori, it appears that this equation itself isn't very useful. However, the <span style=\"background-color:yellow\">likelihood</span> of having $\\mu$ and $\\sigma$ given some data $\\vec{x}$ is defined as\n",
    "\n",
    "\\begin{equation}\n",
    "L(\\mu,\\,\\sigma|\\vec{x}) = p(\\vec{x}|\\mu,\\,\\sigma).\n",
    "\\end{equation}\n",
    "\n",
    "Though the equations are equal, they ask different questions. The left-hand side is concerned about the likelihood of the parameters given the data, while the right-hand side is asking about what the probability of observing the data is, given the parameters. Hence the phrasing *Maximum Likelihood Solution*.\n",
    "\n",
    "Finally, as we will see often later on, let us clearly define the log-likelihood as\n",
    "\n",
    "\\begin{equation}\n",
    "\\mathcal{L}(\\mu,\\,\\sigma|\\vec{x}) = \\ln\\,p(\\vec{x}|\\mu,\\,\\sigma)\n",
    "\\end{equation}\n",
    "\n",
    "Compiled with help from [towardsdatascience.com](https://towardsdatascience.com/probability-concepts-explained-maximum-likelihood-estimation-c7b4342fdbb1)."
   ]
  },
  {
   "cell_type": "markdown",
   "id": "e6aadd0b-c68a-4699-9b93-bb30de30a2cf",
   "metadata": {},
   "source": [
    "Task 1: \n",
    "\n",
    "- Derive an expression $\\mathcal{L}(\\mu,\\,\\sigma|\\vec{x})$. Hold on to this result as we will come back to it later.\n",
    "\n",
    "- Derive an expression for $\\frac{\\partial \\mathcal{L}(\\mu,\\,\\sigma|\\vec{x})}{\\partial \\mu} = 0$.\n",
    "\n",
    "- Given the above expression for $\\frac{\\partial \\mathcal{L}(\\mu,\\,\\sigma|\\vec{x})}{\\partial \\mu}$, find an expression for the mean of the data.\n",
    "\n",
    "- Create a function which takes in the data and a noise ($\\sigma$) estimate and returns the log-likelihood as a function of the mean. Plot the result.\n",
    "\n",
    "- Create a function which solves for the ML solution given the data, and compare your answer to the value of $\\mu$ given in the first cell."
   ]
  },
  {
   "cell_type": "markdown",
   "id": "eef288e7-28f3-4571-9ef1-36845c4f3284",
   "metadata": {},
   "source": [
    "<div style=\"background-color:#e6f3ff; padding:10px; border-style:\n",
    "solid;; border-color:#0084ff; border-width:1px\">\n",
    "Solution:\n",
    "\n",
    "\\begin{align}\n",
    "\\ln (p(\\vec{x}|\\mu,\\,\\sigma)) =& \\ln{\\displaystyle \\prod_{i=1}^{1000}}\\frac{1}{\\sqrt{2 \\pi \\sigma^2}} e^{-\\frac{(x_i-\\mu)^2}{2\\sigma^2}}\\\\\n",
    "=& {\\displaystyle \\sum_{i=1}^{1000} \\ln \\frac{1}{\\sqrt{2 \\pi \\sigma^2}} e^{-\\frac{(x_i-\\mu)^2}{2\\sigma^2}}}\\\\\n",
    "=& \\ln \\frac{1}{\\sqrt{2 \\pi \\sigma^2}} {\\displaystyle \\sum_{i=1}^{1000} \\ln e^{-\\frac{(x_i-\\mu)^2}{2\\sigma^2}}}\\\\\n",
    "=& \\ln \\frac{1}{\\sqrt{2 \\pi \\sigma^2}} {\\displaystyle \\sum_{i=1}^{1000} {-\\frac{(x_i-\\mu)^2}{2\\sigma^2}}}\\\\\n",
    "=& \\ln \\frac{1}{\\sqrt{2 \\pi \\sigma^2}} {\\displaystyle \\sum_{i=1}^{1000} {-\\frac{(x_i^2-2\\mu x_i+\\mu^2)}{2\\sigma^2}}}\\\\\n",
    "\\end{align}\n",
    "    \n",
    "This result is nice in itself as an expression of the log-likelihood $\\mathcal{L}$ for a Gaussian distribution.\n",
    "\n",
    "Then taking the partial derivative of the above with respect to the mean gives\n",
    "\n",
    "\\begin{align}\n",
    "\\frac{\\partial \\ln (p(\\vec{x}|\\mu,\\,\\sigma))}{\\partial \\mu} =& \\frac{\\partial}{\\partial \\mu} \\ln \\frac{1}{\\sqrt{2 \\pi \\sigma^2}}{\\displaystyle \\sum_{i=1}^{1000} {-\\frac{(x_i^2-2\\mu x_i+\\mu^2)}{2\\sigma^2}}}\\\\\n",
    "=& \\frac{\\partial}{\\partial \\mu} {\\displaystyle \\sum_{i=1}^{1000} {-\\frac{(x_i^2-2\\mu x_i+\\mu^2)}{2\\sigma^2}}}\\\\\n",
    "=& -\\frac{1}{2\\sigma^2} {\\displaystyle \\sum_{i=1}^{1000}\\frac{\\partial}{\\partial \\mu}(x_i^2-2\\mu x_i+\\mu^2)}\\\\\n",
    "=& -\\frac{1}{2\\sigma^2} {\\displaystyle \\sum_{i=1}^{1000}-2x_i+2\\mu}\\\\\n",
    "=& \\frac{1}{\\sigma^2} {\\displaystyle \\sum_{i=1}^{1000}x_i-\\mu}\\\\\n",
    "=& 0\n",
    "\\end{align}\n",
    "\n",
    "This gives us a nice expression for the $\\mu$,\n",
    "\n",
    "\\begin{equation}\n",
    "\\mu = {\\displaystyle \\frac{1}{1000}\\sum_{i=1}^{1000} x_i},\n",
    "\\end{equation}\n",
    "which should not be a surprising result as the estimate of the mean is just the average of all of the samples.\n",
    "</div>"
   ]
  },
  {
   "cell_type": "code",
   "execution_count": 76,
   "id": "d4414ad2-c941-4a12-840e-cfedc5a4f245",
   "metadata": {},
   "outputs": [
    {
     "data": {
      "image/png": "[encoded data removed]",
      "text/plain": [
       "<Figure size 432x288 with 1 Axes>"
      ]
     },
     "metadata": {
      "needs_background": "light"
     },
     "output_type": "display_data"
    },
    {
     "name": "stdout",
     "output_type": "stream",
     "text": [
      "9.964338258265276\n"
     ]
    }
   ],
   "source": [
    "def return_log_likelihood(data,sigma):\n",
    "    samples = np.shape(data)[0]\n",
    "    \n",
    "    # Make a grid of uniform possible mean values\n",
    "    mu_grid = np.linspace(np.min(data),np.max(data),1000)\n",
    "    \n",
    "    # Initialize the lnL arary\n",
    "    lnL = np.zeros(1000)\n",
    "    \n",
    "    # Calculate\n",
    "    for i in range(1000):\n",
    "        for j in range(samples):\n",
    "            lnL[i] += np.log(1/(np.sqrt(2*np.pi*sigma**2)))*(data[j]-mu_grid[i])**2/(2*sigma**2)\n",
    "\n",
    "    return mu_grid,lnL\n",
    "    \n",
    "# Get the values\n",
    "x, lnL = return_log_likelihood(data,sigma)\n",
    "# Plot\n",
    "plt.plot(x,lnL)\n",
    "plt.show()\n",
    "\n",
    "def solve_for_ML(data,sigma):\n",
    "    samples = np.shape(data)[0]\n",
    "    \n",
    "    # Very Fortran-y, slow method:\n",
    "    amplitude = 0\n",
    "    for i in range(samples):\n",
    "        amplitude += data[i]\n",
    "        \n",
    "    amplitude = amplitude/samples\n",
    "    \n",
    "    return amplitude\n",
    "\n",
    "print(solve_for_ML(data,sigma))"
   ]
  },
  {
   "cell_type": "markdown",
   "id": "4be45303-01f3-49c9-b34a-5d96a280c9b1",
   "metadata": {},
   "source": [
    "### Multi-frequency example\n",
    "\n",
    "As we will see further on, determing the mean of an observable can be aided by (or in practice requires) the addition of multiple data points. As we move more towards a realistic example, we will say that we have observations at multiple frequencies. For a simple example, let's consider some observable which scales linearly with frequency. \n",
    "\n",
    "Let's create a new data set, where our observable has a mean value $a_{obs} = \\mu$, and each observation frequency has its own noise characterisitic $n_{\\nu}$.\n",
    "\n",
    "When carrying out this multi-frequency analysis, we need to determine a reference frequency $\\nu_{\\rm ref}$, at which we evaluate the recovered amplitude $a_{obs}$.\n",
    "\n",
    "Therefore, our new data model will be written as\n",
    "\n",
    "$d_{\\nu} = a_{obs}(\\nu/\\nu_{\\rm ref}) + n_{\\nu}$."
   ]
  },
  {
   "cell_type": "code",
   "execution_count": 77,
   "id": "d9ebaa8c-9a85-47fe-a2cb-a64002eb059f",
   "metadata": {},
   "outputs": [],
   "source": [
    "# New variables\n",
    "nfreq  = 5\n",
    "nus    = np.asarray([10.,20., 30.,40.,50.])\n",
    "sigmas = np.asarray([1., 1.5, 1.25, 2., 0.75])\n",
    "\n",
    "# Remake our data array\n",
    "data   = np.empty((ndraws,nfreq))\n",
    "\n",
    "# Reference frequency\n",
    "nu_ref = 20.\n",
    "\n",
    "def gen_spectrum(amplitude,frequency,reference):\n",
    "   return amplitude*(frequency/reference)\n",
    "\n",
    "for i in range(ndraws):\n",
    "        for j in range(nfreq):\n",
    "            data[i][j] = gen_spectrum(mu,nus[j],nu_ref)+np.random.normal(0.0,sigmas[j])\n"
   ]
  },
  {
   "cell_type": "markdown",
   "id": "ba4a45e9-3032-4be1-abb4-1ec2e5089554",
   "metadata": {},
   "source": [
    "What does this data look like for us?"
   ]
  },
  {
   "cell_type": "code",
   "execution_count": 78,
   "id": "080867e6-b095-48e2-a563-2a5a38e28b48",
   "metadata": {},
   "outputs": [
    {
     "data": {
      "image/png": "[encoded data removed]",
      "text/plain": [
       "<Figure size 432x288 with 1 Axes>"
      ]
     },
     "metadata": {
      "needs_background": "light"
     },
     "output_type": "display_data"
    }
   ],
   "source": [
    "data_mean  = np.empty(nfreq)\n",
    "data_error = np.empty(nfreq)\n",
    "for j in range(nfreq):\n",
    "    data_mean[j]  = np.mean(data.T[j])\n",
    "    data_error[j] = np.std(data.T[j])\n",
    "    \n",
    "plt.errorbar(nus,data_mean,yerr=data_error,fmt='.',color='k')\n",
    "plt.xlabel('\"Frequency\"',size=15)\n",
    "plt.ylabel('Amplitude',size=15)\n",
    "plt.show()"
   ]
  },
  {
   "cell_type": "markdown",
   "id": "5e5c3344-6e79-410b-bfd8-f7e35a91ac99",
   "metadata": {},
   "source": [
    "We can see that it would be simple to draw a straight line through the points, though many straight lines may fit the through all of the error bars. It is vital that we make an estimate of the *best* fit to the data, not just a fit."
   ]
  },
  {
   "cell_type": "markdown",
   "id": "db54d87c-a1da-46be-8f7b-6048ddac90fb",
   "metadata": {},
   "source": [
    "Task 2:\n",
    "\n",
    "- Generalize the `return_log_likelihood` function to work for the multi-frequency data and plot $\\mathcal{L}(a_{obs}|\\boldsymbol d)$ as a function of $a_{obs}$.\n",
    "\n",
    "- Generalize the `solve_for_ML` function to work for the multi-frequency data and find the ML value of $a_{obs}$.\n"
   ]
  },
  {
   "cell_type": "markdown",
   "id": "8706a1de-4ea5-47f8-a244-918d83a7bdb0",
   "metadata": {},
   "source": [
    "# Interjection - Some Important Information\n",
    "\n",
    "## Generalization\n",
    "\n",
    "Up until now we have taken a very simple example, where we have a data vector containing samples, and we find the MLS. Before we move to drawing samples from noisy data, we will define some more general nomenclature. Our original data model looked something like\n",
    "\n",
    "\\begin{equation}\n",
    "d = s + n.\n",
    "\\end{equation}\n",
    "\n",
    "We then expanded the actual signal into an amplitude and a frequency scaling\n",
    "\n",
    "\\begin{equation}\n",
    "s = a_{obs}(\\nu/\\nu_{\\rm ref}).\n",
    "\\end{equation}\n",
    "\n",
    "This expansion of the signal term can be generalized in the following way\n",
    "\n",
    "\\begin{equation}\n",
    "s = Ta,\n",
    "\\end{equation}\n",
    "\n",
    "where $T$ is a matrix containing the scaling relation information (in this simple case $T=(\\nu/\\nu_{\\rm ref})$), and $a$ is a vector corresponding to the amplitudes we are looking for $a=a_{ obs}$.\n",
    "\n",
    "In essence, by finding the ML solution, we are solving the equation\n",
    "\n",
    "\\begin{equation}\n",
    "(T^t N^{-1} T)a = T^t N^{-1} d,\n",
    "\\end{equation}\n",
    "\n",
    "where $N^{-1}$ is the noise covariance matrix.\n",
    "\n",
    "To be explicit, through the remainder of this notebook we will be looking and multi-frequency observations (vital in Cosmological Component Separation) and aim to solve for the true signal sky signal $s_{\\nu}$ with the data model\n",
    "\n",
    "\\begin{equation}\n",
    "d_{\\nu} = s_{\\nu} + n_{\\nu},\n",
    "\\end{equation}\n",
    "\n",
    "by solving the linear equation  \n",
    "\n",
    "\\begin{equation}\n",
    "{\\displaystyle \\sum_{\\nu}(T_{\\nu}^t N_{\\nu}^{-1} T_{\\nu})a = \\sum_{\\nu}T_{\\nu}^t N_{\\nu}^{-1} d_{\\nu}}.\n",
    "\\end{equation}\n",
    "\n",
    "This equation will be expanded upon to include sampling and prior terms throughout this notebook. \n",
    "\n",
    "\n",
    "Note that when we move to more complex systems (many data sets with many pixels), filling and multiplying these matricies can be very expensive both computationally and for memory usage. A student interested in should read \"An Introduction to the Conjugate Gradient Method withouth the Agonizing Pain\" by Jonathan Shewchuk. It is excellent. Additionally, Numerical Recipes is always your friend when trying to solve complex linear systems computationally.\n",
    "\n"
   ]
  },
  {
   "cell_type": "markdown",
   "id": "6f605f15-9fda-4ba9-b03c-05995ba42be1",
   "metadata": {},
   "source": [
    "## Bayes Theorem\n",
    "\n",
    "Before getting too far into the weeds here, we will introduce Bayes' Theorem as well as a practical definition for our purposes. Given a set of parameters $\\vec{\\omega} = \\{\\omega_1,...,\\omega_k\\}$, we will define the posterior distribution of $\\boldsymbol \\omega$ with respect to the data as \n",
    "\n",
    "\\begin{equation}\n",
    "P(\\vec{\\omega}\\mid\\boldsymbol{d}) = \\frac{P(\\boldsymbol{d} \\mid \\vec{\\omega}) P(\\vec{\\omega})}{P(\\boldsymbol{d})} \\propto \\mathcal{L}(\\vec{\\omega}) P(\\vec{\\omega}),\n",
    "\\end{equation}\n",
    "where $ P(\\boldsymbol{d}\\mid\\vec{\\omega}) \\equiv \\mathcal{L}(\\vec{\\omega})$ is the likelihood function (as we have talked about above), $P(\\vec{\\omega})$ is the prior, and $P(\\boldsymbol{d})$ is a normalization factor which we disregard here as it is independent of the parameters $\\vec{\\omega}$."
   ]
  },
  {
   "cell_type": "markdown",
   "id": "54cf9798-416c-4487-8868-c2e7263745b5",
   "metadata": {
    "tags": []
   },
   "source": [
    "# Chapter 2 - Sampling Methods\n",
    "\n",
    "In Chapter 1 we have simply drawn Gaussian samples of the data using `numpy`, having already known the mean and standard deviation of our data. In map-space analysis, we work with sky maps that are characterized by a total sky signal amplitude $s_{\\nu}$, with an estimate of the noise $n_{\\nu}$, giving us our data\n",
    "\n",
    "\\begin{equation}\n",
    "d_{\\nu} = s_{\\nu} + n_{\\nu}.\n",
    "\\end{equation}\n",
    "\n",
    "This has been stated before and will be stated again in hopes of making you see the above equation when you close your eyes. We now wish to sample for $s_{\\nu}$, the *true* sky signal, seeing as we know the data $d_{\\nu}$ and have an estimate of the noise $n_{\\nu}$.\n",
    "\n",
    "Here we introduce three methods which we can use for sampling parameters. The Metropolis and Metropolis-Hastings methods are broadly used in MCMC methods and will be introduced here. These methods are usable in the general sense. Inversion Sampling is also introduced, which is used in the Commander/Cosmoglobe framework for sampling non-linear parameters, i.e., spectral indices. Finally from a Gaussian distribution is introduced. This is a core method to learn for sampling linear parameters and will be expanded upon in the next Chapter to the multi-variate case. In the Cosmoglobe/Commander framework this method is used to sample for Galactic foreground amplitudes."
   ]
  },
  {
   "cell_type": "markdown",
   "id": "3af1bf66-b13d-42cd-b4fc-c2bf92d49b8a",
   "metadata": {},
   "source": [
    "### Metropolis and Metropolis-Hastings Methods\n",
    "\n",
    "The Metropolis method is by far the most well-known of all of the MCMC sampling methods due to it's ease of implementation, tunability, and effectiveness. The Metropolis and Metropolis-Hastings algorithms are effective as all samples with a higher likelihood are accepted, while some samples with lower likelihoods will be accepted from time to time (this can be helpful to avoid becoming stuck around a local likelihood peak). \n",
    "\n",
    "Let us say we wish to sample for some parameter $\\omega$. Let $\\omega_j$ represent te $j$th sample of $\\omega$ in a Markov chain. We also need to define a stochastic proposal probablility distribution, $T(\\omega_{j+1}\\mid \\omega_{j})$, with which we tune in order to help with parameter convergence. In the Metropolis method, the proposal distribution is symmetric, i.e., $T(\\omega_{j+1}\\mid \\omega_{j})=T(\\omega_{j}\\mid \\omega_{j+1})$. In the Metropolis-Hastings method, this proposal distribution need not be symmetric.\n",
    "\n",
    "The next thing we need to define is the acceptance criterion, which tells us which samples we will accept and which ones we will not. This acceptance criterion is defined by the ratio of the densities, which is given by the ratio of the posterior probabilities as defined by Bayes' theorem ($\\frac{P(\\boldsymbol d \\mid \\omega_{j+1})}{P(\\boldsymbol d \\mid \\omega_{j})}$). If a prior is used to inform our sampling, this ratio is weighted by the ratio of the prior probabilities. Therefore our total definition of the acceptance probability $q$ is defined as\n",
    "\n",
    "\\begin{equation}\n",
    "q = \\frac{P(\\boldsymbol d \\mid \\omega_{j+1})}{P(\\boldsymbol d \\mid \\omega_{j})}\\frac{P(\\omega_{j+1})}{P(\\omega_j)}.\n",
    "\\end{equation}\n",
    "\n",
    "With these defined, we can now outline the algorithm itself. The algorthim is given by:\n",
    "\n",
    "1. Initialie chain at some parameter value $\\omega_0$.\n",
    "2. Draw a random sample from the proposal probability distribution, i.e., $\\omega_{j+1} \\leftarrow T(\\omega_{j+1}\\mid\\omega_j)$.\n",
    "3. Compute the acceptance probability $q$.\n",
    "4. Draw a random number $\\eta$ from a uniform distribution $U[0,1]$.\n",
    "5. Accept the proposed $\\omega_{j+1}$ if $\\eta < q$. Otherwise, set $\\omega_{j+1} = \\omega_{j}$.\n",
    "6. Repeate steps 2-5 until convergence."
   ]
  },
  {
   "cell_type": "markdown",
   "id": "1b5b8281-ffae-401e-9399-a2de145ef28f",
   "metadata": {},
   "source": [
    "### Inversion sampling\n",
    "Now that we have sampled the two amplitude parameters, we want to sample spectral parameters, which do not depend linearly on the data $d$, and are not Gaussian distributions, hence demand a different approach. \n",
    "To sample these two conditional distributions, we employ the \"inversion sampler\", which is completely general and works for all univariate distributions.\n",
    "In our case, we have the distribution\n",
    "\\begin{align}\n",
    "  P(\\beta\\mid d, a) &\\propto P(d\\mid a, \\beta) P(\\beta)\\\\\n",
    "  &\\propto \\left[\\prod_{\\nu}\n",
    "    \\mathrm \\exp\\left(-\\frac{1}{2}\\left(d_{\\nu}-T(\\beta)a\\right)^t N_{\\nu}^{-1}\\left(d_{\\nu}-T(\\beta)a\\right)\\right)\\right]P(\\beta).\n",
    "\\end{align}\n",
    "\n",
    "Using this for P(x) we can sample using the inversion sampler by:\n",
    "1. Compute $P(x)$ over a grid in $x$, making sure to probe the tails to sufficient accuracy.\n",
    "2. Compute the cumulative probability distribution, ${F(x) = \\int_{-\\infty}^{x} P(x')\\,\\mathrm dx'}$.\n",
    "3. Draw a random uniform variate, $\\eta \\sim U[0,1]$.\n",
    "4. Solve the nonlinear equation $\\eta = F(x)$ for $x$."
   ]
  },
  {
   "cell_type": "markdown",
   "id": "9a76edaf-61db-4af0-a555-63f62693ded6",
   "metadata": {},
   "source": [
    "### Sampling a Gaussian\n",
    "We may write $d = Ta+n = f(\\omega)\\cdot A + n$ where $\\omega$ is the set of spectral indices (such as $\\beta_{\\rm s}$ or $T_{\\rm d}$ for dust).\n",
    "If we rewrite this and assume that the noise is gaussian $n = d - Ta$ we can express the distribution as\n",
    "\\begin{align}\n",
    "P(a\\mid d, \\omega\\setminus a) &\\propto P(d\\mid\\omega)P(a)\\\\\n",
    "  &\\propto P(d\\mid a)P(a)\\\\\n",
    "  &\\propto \\left[\\prod_{\\nu} \\exp\\left(-\\frac{1}{2}(d_{\\nu}-T_{\\nu}a)^t N_{\\nu}^{-1}(d_{\\nu}-T_{\\nu}a)\\right)\\right]\\cdot P(a)\n",
    "\\end{align}\n",
    "which can be sampled by solving for $a$ in \n",
    "$$\\biggl(S^{-1} + \\sum_{\\nu}T^t_{\\nu}N_{\\nu}^{-1}T_{\\nu}\\biggr)\\,a = \\sum_\\nu T_{\\nu}^t N_\\nu^{-1}d_{\\nu}+\\sum_\\nu T_{\\nu}^t N_\\nu^{-1/2}m_{\\nu} + \\sum_{\\nu}T_{\\nu}^tN_{\\nu}^{-1/2}\\eta_{\\nu} + S^{-1/2}\\eta_{0},$$\n",
    "where S is a prior standarad deviation, N is the noise, m is the prior mean, and $\\eta$ are random normal values. For a full explanation on this, look at BeyondPlanck 1, appendix 2. \n",
    "\n",
    "Note here that the simplified case (no prior) \n",
    "\n",
    "\\begin{equation}\n",
    "\\biggl(\\sum_{\\nu}T^t_{\\nu}N_{\\nu}^{-1}T_{\\nu}\\biggr)\\,a = \\sum_\\nu T_{\\nu}^t N_\\nu^{-1}d_{\\nu} + \\sum_{\\nu}T_{\\nu}^tN_{\\nu}^{-1/2}\\eta_{\\nu},\n",
    "\\end{equation}\n",
    "\n",
    "is the same equation at the end of the previous section with an additional sampling term.\n",
    "\n",
    "We can also think of the above equation as \n",
    "\n",
    "\\begin{equation}\n",
    "a = \\biggl(\\sum_{\\nu}T^t_{\\nu}N_{\\nu}^{-1}T_{\\nu}\\biggr)^{-1}\\sum_\\nu T_{\\nu}^t N_\\nu^{-1}d_{\\nu} + \\biggl(\\sum_{\\nu}T^t_{\\nu}N_{\\nu}^{-1}T_{\\nu}\\biggr)^{-1}\\sum_{\\nu}T_{\\nu}^tN_{\\nu}^{-1/2}\\eta_{\\nu},\n",
    "\\end{equation}\n",
    "which is nice for the most simple cases.\n",
    "\n"
   ]
  },
  {
   "cell_type": "markdown",
   "id": "8a5a5775-bded-4f88-ac4b-02b69f737073",
   "metadata": {},
   "source": [
    "Task 3: \n",
    "- Create implementations for each of these sampling algorithms to sample for the amplitude of the data set defined in the cell below (no priors)\n",
    "- Plot chains for each of these sampling algorithms\n",
    "- Plot histograms of the samples for each of the algorithms"
   ]
  },
  {
   "cell_type": "code",
   "execution_count": 57,
   "id": "3df2a501-b754-49b2-8503-35344214cdb7",
   "metadata": {},
   "outputs": [],
   "source": [
    "global nbands\n",
    "\n",
    "nbands      = 4\n",
    "newamp      = 5.0\n",
    "frequencies = np.asarray([10.,40.,70.,100.])\n",
    "ref_freq    = 40.\n",
    "noise       = np.asarray([0.75, 1.25, 2.0, 0.5])\n",
    "\n",
    "data        = gen_spectrum(newamp,frequencies,ref_freq)+np.random.normal(0.0,noise)\n",
    "\n",
    "\n",
    "def eval_loglikelihood(data,noise,spectrum,amplitude,frequencies):\n",
    "    return lnl\n",
    "\n",
    "def metropolis_sample(data,noise,spectrum,amplitude,frequencies,niter):\n",
    "    samples    = np.zeros(niter)\n",
    "    amp_sample = amplitude\n",
    "    # Define the step length of the proposal distribution\n",
    "    #step_size =\n",
    "    \n",
    "    # Evaluate the inital likelihood P(data|amp_sample)\n",
    "    # lnL_old = eval_loglikelihood(data,noise,spectrum,amp_sample)\n",
    "    # We will adopt a Gaussian distribution for our proposal distribution\n",
    "    for i in range(niter):\n",
    "        sample = amp_sample + np.random.normal(0.0,step_size)\n",
    "        \n",
    "        # Evaluate the probability of new sample\n",
    "        \n",
    "        # Calculate the ratio of the likelihoods\n",
    "        \n",
    "        # Calculate acceptance probability\n",
    "        \n",
    "        # If q >= U[0,1] accept, else, try again\n",
    "        \n",
    "        # Save sample so we can look at the chain afterwards\n",
    "        samples[i] = amp_sample\n",
    "    \n",
    "    return samples\n",
    "\n",
    "def inversion_sample(data,noise,spectrum,xs,frequencies,niter):\n",
    "    samples = np.zeros(niter)\n",
    "\n",
    "    # Compute P(x) over a grid in x ^^(xs)\n",
    "    \n",
    "    # Compute the cumulative probability distribution\n",
    "    \n",
    "    for i in range(niter):\n",
    "        # draw a random number\n",
    "        eta        = np.random.uniform(0,np.max(Fx))\n",
    "\n",
    "        # Find the value of the parameter which corresponds to the random number (i.e. solve for x where eta = F(x))\n",
    "\n",
    "    return samples\n",
    "\n",
    "def gaussian_sample(data,noise,spectrum,frequencies,niter):\n",
    "    # In this single pixel, single foreground case, the matrix T_nu is given\n",
    "    # by the spectrum at each frequency, as we attempted to described previously \n",
    "        \n",
    "    # Compute the static parts of the equation (no eta)\n",
    "\n",
    "    # For each iteration draw a random normal for each entry of eta\n",
    "    for i in range(niter):\n",
    "        for j in range(nbands):\n",
    "            eta[j] = np.random.normal(0.0,1.0)    \n",
    "        # Compute the sampling portion and save the sample\n",
    "        \n",
    "    return samples"
   ]
  },
  {
   "cell_type": "markdown",
   "id": "e12d7f4d-9952-4f34-b2f6-9d0a67efd601",
   "metadata": {},
   "source": [
    "<div style=\"background-color:#e6f3ff; padding:10px; border-style:\n",
    "solid;; border-color:#0084ff; border-width:1px\">\n",
    "    \n",
    "### Solution"
   ]
  },
  {
   "cell_type": "code",
   "execution_count": 56,
   "id": "20386707-5ce5-40e8-ae9d-39116110eb3b",
   "metadata": {},
   "outputs": [
    {
     "data": {
      "image/png": "[encoded data removed]",
      "text/plain": [
       "<Figure size 576x864 with 6 Axes>"
      ]
     },
     "metadata": {
      "needs_background": "light"
     },
     "output_type": "display_data"
    }
   ],
   "source": [
    "from scipy.interpolate import interp1d\n",
    "\n",
    "def new_spectrum(frequency):\n",
    "    return (frequency/ref_freq)\n",
    "\n",
    "def eval_loglikelihood(data,noise,spectrum,amplitude,frequencies):\n",
    "    lnl = 0.0\n",
    "    for i in range(len(frequencies)):\n",
    "        lnl += -0.5*(data[i]-amplitude*spectrum(frequencies[i]))**2/(noise[i]**2)\n",
    "    return  lnl\n",
    "    \n",
    "def metropolis_sample(data,noise,spectrum,amplitude,frequencies,niter):\n",
    "    samples = np.zeros(niter)\n",
    "    \n",
    "    amp_sample = amplitude\n",
    "    # Define the step length of the proposal distribution\n",
    "    step_size = 0.25\n",
    "    \n",
    "    # Evaluate the inital likelihood P(data|amp_sample)\n",
    "    lnl_old = eval_loglikelihood(data,noise,spectrum,amp_sample,frequencies)\n",
    "    \n",
    "    # We will adopt a Gaussian distribution for our proposal distribution\n",
    "    for i in range(niter):\n",
    "        sample = amp_sample + np.random.normal(0.0,step_size)\n",
    "        \n",
    "        # Evaluate the probability of new sample\n",
    "        lnl_new = eval_loglikelihood(data,noise,spectrum,sample,frequencies)\n",
    "    \n",
    "        # Calculate the ratio of the likelihoods\n",
    "        ratio = lnl_new - lnl_old\n",
    "        \n",
    "        # Calculate acceptance probability\n",
    "        q = min(1.0,np.exp(ratio))\n",
    "        \n",
    "        # If q >= U[0,1] accept, else, try again\n",
    "        if q >= np.random.uniform(0,1):\n",
    "            amp_sample = sample\n",
    "            lnl_old    = lnl_new\n",
    "            \n",
    "        # Save sample so we can look at the chain afterwards\n",
    "        samples[i] = amp_sample\n",
    "        \n",
    "    return samples\n",
    "\n",
    "def inversion_sample(data,noise,spectrum,xs,frequencies,niter):\n",
    "    samples = np.zeros(niter)\n",
    "\n",
    "    \n",
    "    # Compute P(x) over a grid in x ^^(xs)\n",
    "    P = np.zeros(len(x))\n",
    "    P = np.exp(eval_loglikelihood(data,noise,spectrum,xs,frequencies))\n",
    "    \n",
    "    # Compute the cumulative probability distribution\n",
    "    dx = xs[1]-xs[0]\n",
    "    Fx = np.cumsum(P*dx)\n",
    "    \n",
    "    for i in range(niter):\n",
    "        # draw a random number\n",
    "        eta        = np.random.uniform(0,np.max(Fx))\n",
    "        c1         = min(xs); c2 = max(xs)\n",
    "        \n",
    "        # Find the value of the parameter which corresponds to the random number (i.e. solve for x where eta = F(x))\n",
    "        f          = interp1d(Fx, xs, bounds_error=False, fill_value=(c1,c2))\n",
    "        samples[i] = f(eta)\n",
    "    return samples\n",
    "\n",
    "def gaussian_sample(data,noise,spectrum,frequencies,niter):\n",
    "    # In this single pixel, single foreground case, the matrix T_nu is given\n",
    "    # by the spectrum at each frequency, as we attempted to described previously\n",
    "    \n",
    "    samples = np.zeros(niter) \n",
    "    eta     = np.empty(nbands)\n",
    "    T_nu    = spectrum(frequencies)    \n",
    "        \n",
    "    # Compute the static parts of the equation (no eta)\n",
    "    a11     = sum(data*T_nu/noise**2)\n",
    "    a2      = sum(T_nu/noise**2*T_nu)\n",
    "\n",
    "    # For each iteration draw a random normal for each entry of eta\n",
    "    for i in range(niter):\n",
    "        for j in range(nbands):\n",
    "            eta[j] = np.random.normal(0.0,1.0)    \n",
    "        # Compute the sampling portion and save the sample\n",
    "        a12 = sum(T_nu/noise*eta)\n",
    "        samples[i] = (a11+a12)/a2\n",
    "        \n",
    "    return samples\n",
    "\n",
    "samples_metrop = metropolis_sample(data,noise,new_spectrum,5.0,frequencies,1000)\n",
    "samples_invers = inversion_sample(data,noise,new_spectrum,np.linspace(1.0,10.0,100),frequencies,1000)\n",
    "samples_gauss  = gaussian_sample(data,noise,new_spectrum,frequencies,1000)\n",
    "x   = np.linspace(1,1000,1000)\n",
    "\n",
    "\n",
    "fig, ax = plt.subplots(3,2,figsize=(8,12)) \n",
    "ax[0][0].plot(x,samples_metrop); ax[0][1].hist(samples_metrop)\n",
    "ax[1][0].plot(x,samples_invers); ax[1][1].hist(samples_invers)\n",
    "ax[2][0].plot(x,samples_gauss);  ax[2][1].hist(samples_gauss)\n",
    "plt.show()\n",
    "            "
   ]
  },
  {
   "cell_type": "markdown",
   "id": "26965237-caab-42c0-ba7e-0fd8c4565b61",
   "metadata": {},
   "source": [
    "# Chapter 3 - A Step Closer to the Microwave Sky - Introducing More Foregrounds"
   ]
  },
  {
   "cell_type": "markdown",
   "id": "12d0effc-b68d-4619-8747-d440c441fbc0",
   "metadata": {},
   "source": [
    "In this chapter we will simulate a simplified example of the Microwave Sky. We will consider a single-pixel example that includes the CMB, synchrotron, and thermal dust radiation, with frequencies similar to that of the Planck satellite. "
   ]
  },
  {
   "cell_type": "markdown",
   "id": "20c2c30d-20b7-451d-85fc-785fe373b74d",
   "metadata": {
    "tags": []
   },
   "source": [
    "# Simulate a Single Pixel Data Set"
   ]
  },
  {
   "cell_type": "markdown",
   "id": "3e15cad8-83ae-45dd-9391-3087dbc91a3b",
   "metadata": {},
   "source": [
    "Let's begin by first importing a couple useful functions and constants. Here we will provide two SEDs with which we will use to simulate some sky data. You will be asked to pick another foreground spectrum (or come up with your own) to code up."
   ]
  },
  {
   "cell_type": "code",
   "execution_count": 11,
   "id": "7a88d032-8b87-42ef-8e3a-afe63dca1c2e",
   "metadata": {},
   "outputs": [],
   "source": [
    "# Constants\n",
    "kb   = 1.38e-23      # Boltzmanns constant\n",
    "Tcmb = 2.7255        # CMB temperature\n",
    "h    = 6.626e-34     # Plancks constant\n",
    "\n",
    "# Calculates synchrotron value for given input frequency and parameters\n",
    "def synch_spec(A_synch, b_synch, synch_curv, synch_freq, synch_ref):\n",
    "    return float(A_synch*((synch_freq/synch_ref)**(b_synch+synch_curv*np.log(synch_freq/synch_ref))))\n",
    "\n",
    "# Calculates dust value for given input frequency and parameters\n",
    "def dust_spec(A_dust, b_dust, T_dust, dust_freq, dust_ref):\n",
    "    return float(A_dust*((dust_freq/dust_ref)**(b_dust + 1.)))* \\\n",
    "        (np.exp(h*dust_ref*1.0e9/(kb*T_dust))-1.)/ \\\n",
    "        (np.exp(h*dust_freq*1.0e9/(kb*T_dust))-1.)\n",
    "\n",
    "# Unit conversion between Rayleigh–Jeans units and cmb units\n",
    "def unit_conv(frequency):\n",
    "    xx = h*frequency*1.0e9/(kb*Tcmb)\n",
    "    return xx**2*np.exp(xx)/((np.exp(xx)-1.)**2)"
   ]
  },
  {
   "cell_type": "markdown",
   "id": "374d12bb-a37d-4a9d-b2dc-a8c6dd62df3b",
   "metadata": {
    "tags": []
   },
   "source": [
    "## Simulated sky data\n",
    "Now we can simulate our data using this sky model for a given set of frequencies. Below we set the model parameters, the set of frequencies, the level of noise for each frequency and which frequency we use as pivot frequency (reference frequency) for dust and syncrotron. \n",
    "\n",
    "We have added all the Planck frequencies although not all of them were sensitive to polarization. Feel free to add the frequencies and sensitivities from your favourite experiment."
   ]
  },
  {
   "cell_type": "code",
   "execution_count": 9,
   "id": "1adbebcd-b71f-41f7-a625-f9f85da6ee92",
   "metadata": {},
   "outputs": [
    {
     "name": "stdout",
     "output_type": "stream",
     "text": [
      "freq  |  cmb   |  synch |  dust  |  data\n",
      "30.0  |  1.95  |  12.00  |  0.11  |  14.07\n",
      "44.0  |  1.90  |  3.46  |  0.23  |  5.59\n",
      "70.0  |  1.76  |  0.66  |  0.54  |  2.96\n",
      "100.0  |  1.55  |  0.16  |  1.02  |  2.74\n",
      "143.0  |  1.21  |  0.04  |  1.91  |  3.15\n",
      "217.0  |  0.67  |  0.01  |  3.82  |  4.50\n",
      "353.0  |  0.15  |  0.00  |  8.00  |  8.16\n",
      "545.0  |  0.01  |  0.00  |  13.84  |  13.85\n",
      "857.0  |  0.00  |  0.00  |  20.11  |  20.11\n"
     ]
    }
   ],
   "source": [
    "#Pixel size. Small number => large pixels => little noise pr pixel\n",
    "nside = 64\n",
    "#Frequency bands for Planck\n",
    "freq = np.array([30., 44., 70., 100., 143., 217., 353., 545., 857.])\n",
    "#Noise level pr pixel, pr frequency\n",
    "sigma = np.array([1.2, 2.7, 3.2, 5.6, 2.1, 3.8, 1.3, 2.9, 1.7])*nside/512 \n",
    "# Choose pivot frequencies\n",
    "synch_ref = freq[0]   #Pivot/reference frequency synchrotron\n",
    "dust_ref = freq[-3]   #Pivot frequency dust\n",
    "\n",
    "#Model parameters for given pivot frequencies\n",
    "Acmb   = 2.00    # CMB amplitude\n",
    "As     = 12      # Synchrotron amplitude at the reference frequency\n",
    "Betas  = -3.1    # Synchrotron beta (spectral index)\n",
    "Csynch = -0.39   # Synchrotron curvature (set to zero if you do not want to include it)\n",
    "Ad     = 8       # Dust amplitude at the reference frequency\n",
    "Betad  = 1.9     # Dust beta (spectral index)\n",
    "Tdust  = 19.6    # Dust temperature\n",
    "names  = ([\"Acmb\", \"As\", \"Betas\", \"Csynch\", \"Ad\", \"Betad\", \"Tdust\"])\n",
    "names_plot  = (['$A_{cmb}$', '$A_s$', r'$\\beta_s$', '$C_s$', '$A_d$', r'$\\beta_d$', '$T_d$'])\n",
    "param_in = np.array([Acmb, As, Betas, Csynch, Ad, Betad, Tdust])\n",
    "\n",
    "# empty arrays for storing the data model for each frequency band\n",
    "cmb   = np.empty(np.size(freq)) \n",
    "synch = np.empty(np.size(freq))\n",
    "dust  = np.empty(np.size(freq))\n",
    "data  = np.empty(np.size(freq))\n",
    "\n",
    "print (\"freq  | \",\"cmb   | \", \"synch | \", \"dust  | \", \"data\")\n",
    "#Generate our data set for each frequenxy\n",
    "for i in range(np.size(freq)):\n",
    "    # Make CMB data set\n",
    "    cmb[i] = Acmb*unit_conv(freq[i])\n",
    "    # Synchrotron data\n",
    "    synch[i] = synch_spec(As, Betas, Csynch, freq[i], synch_ref)\n",
    "    # Dust data\n",
    "    dust[i] = dust_spec(Ad, Betad, Tdust, freq[i], dust_ref)\n",
    "    # Full data set\n",
    "    data[i] = cmb[i] + synch[i] + dust[i]\n",
    "    print (freq[i], \" | \", format(cmb[i], '.2f'), \" | \", format(synch[i], '.2f'), \" | \", format(dust[i], '.2f'), \" | \", format(data[i], '.2f'))\n",
    "    \n",
    "# Add instrumental noise to signal\n",
    "data = data + np.random.randn(len(sigma))*sigma"
   ]
  },
  {
   "cell_type": "code",
   "execution_count": 10,
   "id": "0ab66618-4f4a-4e97-a48c-5b8138cdbb9b",
   "metadata": {},
   "outputs": [
    {
     "data": {
      "image/png": "[encoded data removed]",
      "text/plain": [
       "<Figure size 432x288 with 1 Axes>"
      ]
     },
     "metadata": {
      "needs_background": "light"
     },
     "output_type": "display_data"
    }
   ],
   "source": [
    "# Plot cmb, synchrotron, dust and total signal\n",
    "def plot_func(cmb_values, synch_values, dust_values, data_values, linestyle=\"-\", tag=\"\"):\n",
    "    plt.plot(freq.T, cmb_values, label = \"CMB \"+tag, linestyle=linestyle, color=\"C0\",)\n",
    "    plt.plot(freq.T, synch_values, label = \"Synchrotron \"+tag, linestyle=linestyle,color=\"C1\",)\n",
    "    plt.plot(freq.T, dust_values, label = \"Thermal dust \"+tag, linestyle=linestyle,color=\"C2\",)\n",
    "    plt.plot(freq.T, data_values, label = \"Sum fg. \"+tag, linestyle=linestyle,color=\"C3\",)\n",
    "    plt.xscale('log')\n",
    "    plt.yscale('log')\n",
    "    plt.xlabel(\"Frequency [GHz]\")\n",
    "    plt.ylabel(\"Amplitude [uK_RJ]\")\n",
    "    plt.ylim(1e-2,1e2)\n",
    "    plt.legend(loc=\"best\", frameon=False)\n",
    "\n",
    "plot_func(cmb, synch, dust, data)\n",
    "#Data points for task 1.2:\n",
    "plt.plot(freq, [12.2, 9.0, 5.4, 4.5, 4.7, 4.8, 8.2, 13.1, 19.3], 'kx')\n",
    "plt.show()"
   ]
  },
  {
   "cell_type": "markdown",
   "id": "5ed5976c-6b6c-4e59-aa7b-2a42e58e3456",
   "metadata": {},
   "source": [
    "## Load in the Data\n",
    "\n",
    "To begin let us load in our simulated sky maps.\n",
    "\n",
    "We define our data model as:\n",
    "\n",
    "$d_{\\nu} = s_{\\nu} + n_{\\nu}$"
   ]
  },
  {
   "cell_type": "code",
   "execution_count": null,
   "id": "586218c6-6976-430d-a2bb-d7c32b58a105",
   "metadata": {},
   "outputs": [],
   "source": [
    "import healpy as hp"
   ]
  },
  {
   "cell_type": "markdown",
   "id": "dca30cf5-7ba4-4d9a-8eee-c08595127047",
   "metadata": {},
   "source": [
    "## Component Amplitude Sampling\n",
    "\n",
    "Begging with t"
   ]
  },
  {
   "cell_type": "code",
   "execution_count": null,
   "id": "7465523f-2240-46c6-bad9-a483e6db6d43",
   "metadata": {},
   "outputs": [],
   "source": []
  }
 ],
 "metadata": {
  "kernelspec": {
   "display_name": "Python 3 (ipykernel)",
   "language": "python",
   "name": "python3"
  },
  "language_info": {
   "codemirror_mode": {
    "name": "ipython",
    "version": 3
   },
   "file_extension": ".py",
   "mimetype": "text/x-python",
   "name": "python",
   "nbconvert_exporter": "python",
   "pygments_lexer": "ipython3",
   "version": "3.9.6"
  }
 },
 "nbformat": 4,
 "nbformat_minor": 5
}
