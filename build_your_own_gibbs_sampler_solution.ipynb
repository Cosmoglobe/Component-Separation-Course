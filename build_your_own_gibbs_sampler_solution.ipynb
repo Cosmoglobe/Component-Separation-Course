{
 "cells": [
  {
   "cell_type": "markdown",
   "id": "7c808935-d50b-4dcc-b2db-45cd9464a946",
   "metadata": {},
   "source": [
    "# Component Separation Using Bayesian Methods\n",
    "\n"
   ]
  },
  {
   "cell_type": "markdown",
   "id": "f54ba897-65a6-4f19-83d5-76ecb6117456",
   "metadata": {
    "tags": []
   },
   "source": [
    "## Chapter 1 - Simple Test Case\n",
    "Before we move on to any real data, let us take a step back and look at a couple ways to solve for parameters from a distribution. \n",
    "\n",
    "First let us draw 1000 samples from a Gaussian distribution and look at a histogram of the result. \n",
    "\n",
    "As a reminder, a Gaussian distribution for parameter $x$ with mean $\\mu$ and standard deviation $\\sigma$ is given by\n",
    "\n",
    "\\begin{equation}\n",
    "p(x) = \\frac{1}{\\sqrt{2 \\pi \\sigma^2}} e^{-\\frac{(x-\\mu)^2}{2\\sigma^2}}.\n",
    "\\end{equation}"
   ]
  },
  {
   "cell_type": "code",
   "execution_count": 2,
   "id": "57ce5b05-e867-4262-979c-1192e82d7b9c",
   "metadata": {},
   "outputs": [
    {
     "data": {
      "image/png": "[encoded data removed]",
      "text/plain": [
       "<Figure size 432x288 with 1 Axes>"
      ]
     },
     "metadata": {
      "needs_background": "light"
     },
     "output_type": "display_data"
    }
   ],
   "source": [
    "import numpy as np\n",
    "import matplotlib.pyplot as plt\n",
    "\n",
    "ndraws = 1000\n",
    "mu     = 10.\n",
    "sigma  = 1.\n",
    "\n",
    "data = np.zeros(ndraws)\n",
    "for i in range(ndraws):\n",
    "    data[i] = np.random.normal(mu,sigma)\n",
    "\n",
    "plt.hist(data,bins=30)\n",
    "plt.xlabel('Amplitude',size=15)\n",
    "plt.ylabel('Bin Count',size=15)\n",
    "plt.axvline(mu,color='k',linestyle='--')\n",
    "plt.axvline(mu-sigma,color='k',linestyle='--')\n",
    "plt.axvline(mu+sigma,color='k',linestyle='--')\n",
    "plt.show()"
   ]
  },
  {
   "cell_type": "markdown",
   "id": "47484222-b704-462f-b925-3ac12ff9bc50",
   "metadata": {},
   "source": [
    "Now let us suppose we only have the `data` vector defined above, and want to find the mean value of that data. How do we go about that?\n",
    "\n",
    "The first step is always to craft a data model. Let us switch to an observational standpoint. We start by assuming that the true value of the data $\\mu'$ is a single value who's obserbed value has been obscured by some underlying Gaussian noise, i.e. $x = \\mu' + n$ where $x$ is the data, and $n$ is some Gaussian noise. We will generalize this to the following equation, which ought to be baked into your memory\n",
    "\n",
    "\\begin{equation}\n",
    "d = s + n\n",
    "\\end{equation}\n",
    "\n",
    "where $d$ is the observed data, $s$ is the true underlying signal, and $n$ is again a noise term. This formalism is the basis of our component separation methods and will be expanded upon further. Down the road."
   ]
  },
  {
   "cell_type": "markdown",
   "id": "dd2e86f4-4b97-435d-80ee-d5551dcf8bfc",
   "metadata": {},
   "source": [
    "### Maximum-Likelihood Solution\n",
    "\n",
    "Now that we have a simple data model, how does one go about actually determining the true underlying signal $s$? A good starting point is by finding what is called the maximum-likelihood solution, using maximum likelihood estimation (MLE). A cursory Google search for maximum likelihood estimation will provide a mix of math heavy resources (like Wikipedia), and some practical examples (like towardsdatascience). \n",
    "\n",
    "Here we will stick with a Gaussian assumption, i.e. that the noise inherent in the data has a Gaussian form. \n",
    "\n",
    "For any observed point $x_i$, the probability of observing that data point, given the underlying mean ($\\mu$) and standard deviation ($\\sigma$) of the distribution is given by\n",
    "\n",
    "$p(x_i|\\mu,\\,\\sigma) = \\frac{1}{\\sqrt{2 \\pi \\sigma^2}} e^{-\\frac{(x_i-\\mu)^2}{2\\sigma^2}}$,\n",
    "\n",
    "and the probability of observing say 3 data points $x_1$, $x_2$, and $x_3$ is given by \n",
    "\n",
    "$p(x_1,x_2,x_3|\\mu,\\,\\sigma) = \\frac{1}{\\sqrt{2 \\pi \\sigma^2}} e^{-\\frac{(x_1-\\mu)^2}{2\\sigma^2}}\\times\\frac{1}{\\sqrt{2 \\pi \\sigma^2}} e^{-\\frac{(x_2-\\mu)^2}{2\\sigma^2}}\\times\\frac{1}{\\sqrt{2 \\pi \\sigma^2}} e^{-\\frac{(x_3-\\mu)^2}{2\\sigma^2}}$.\n",
    "\n",
    "Let us take all of our observations into account and condense our probability expression (the likelihood) to be\n",
    "\n",
    "\\begin{equation}\n",
    "p(\\vec{x}|\\mu,\\,\\sigma) = {\\displaystyle \\prod_{i=1}^{1000}}\\frac{1}{\\sqrt{2 \\pi \\sigma^2}} e^{-\\frac{(x_i-\\mu)^2}{2\\sigma^2}}\n",
    "\\end{equation}\n",
    "\n",
    "From our Calculus experience, we may note that a sure fire way to determine the maximum or minimum of a function is by taking its derivative. However we can tell by looking at the above equation that taking the derivative of this thing will be a cumbersome operation.\n",
    "\n",
    "Those versed in MLE will be quick to point out that taking the natural logarithm of the above expression gives us something nice to work with!\n",
    "\n",
    "To be explicit, finding the maximum likelihood solution involves finding $\\mu$ where\n",
    "   \n",
    "\\begin{equation}\n",
    "\\frac{\\partial \\ln (p(\\vec{x}|\\mu,\\,\\sigma))}{\\partial \\mu} = 0.\n",
    "\\end{equation}\n",
    "\n",
    "Before we move on, let us touch on a couple final pieces of information which will be important for the future. First let's consider the equation we are solving here $p(\\vec{x}|\\mu,\\,\\sigma)$. This equation reads \"probability of the data given the parameters $\\mu$ and $\\sigma$. Since we already know the data, and don't know the values of $\\mu$ and $\\sigma$ a priori, it appears that this equation itself isn't very useful. However, the <span style=\"background-color:yellow\">likelihood</span> of having $\\mu$ and $\\sigma$ given some data $\\vec{x}$ is defined as\n",
    "\n",
    "\\begin{equation}\n",
    "L(\\mu,\\,\\sigma|\\vec{x}) = p(\\vec{x}|\\mu,\\,\\sigma).\n",
    "\\end{equation}\n",
    "\n",
    "Though the equations are equal, they ask different questions. The left-hand side is concerned about the likelihood of the parameters given the data, while the right-hand side is asking about what the probability of observing the data is, given the parameters. Hence the phrasing *Maximum Likelihood Solution*.\n",
    "\n",
    "Finally, as we will see often later on, let us clearly define the log-likelihood as\n",
    "\n",
    "\\begin{equation}\n",
    "\\mathcal{L}(\\mu,\\,\\sigma|\\vec{x}) = \\ln\\,p(\\vec{x}|\\mu,\\,\\sigma)\n",
    "\\end{equation}\n",
    "\n",
    "Compiled with help from [towardsdatascience.com](https://towardsdatascience.com/probability-concepts-explained-maximum-likelihood-estimation-c7b4342fdbb1)."
   ]
  },
  {
   "cell_type": "markdown",
   "id": "e6aadd0b-c68a-4699-9b93-bb30de30a2cf",
   "metadata": {},
   "source": [
    "### Task 1: \n",
    "\n",
    "- Derive an expression $\\mathcal{L}(\\mu,\\,\\sigma|\\vec{x})$. Hold on to this result as we will come back to it later.\n",
    "\n",
    "- Derive an expression for $\\frac{\\partial \\mathcal{L}(\\mu,\\,\\sigma|\\vec{x})}{\\partial \\mu} = 0$.\n",
    "\n",
    "- Given the above expression for $\\frac{\\partial \\mathcal{L}(\\mu,\\,\\sigma|\\vec{x})}{\\partial \\mu}$, find an expression for the mean of the data.\n",
    "\n",
    "- Create a function which takes in the data and a noise ($\\sigma$) estimate and returns the log-likelihood as a function of the mean. Plot the result.\n",
    "\n",
    "- Create a function which solves for the ML solution given the data, and compare your answer to the value of $\\mu$ given in the first cell."
   ]
  },
  {
   "cell_type": "markdown",
   "id": "eef288e7-28f3-4571-9ef1-36845c4f3284",
   "metadata": {},
   "source": [
    "<div style=\"background-color:#e6f3ff; padding:10px; border-style:\n",
    "solid;; border-color:#0084ff; border-width:1px\">\n",
    "Solution:\n",
    "\n",
    "\\begin{align}\n",
    "\\ln (p(\\vec{x}|\\mu,\\,\\sigma)) =& \\ln{\\displaystyle \\prod_{i=1}^{1000}}\\frac{1}{\\sqrt{2 \\pi \\sigma^2}} e^{-\\frac{(x_i-\\mu)^2}{2\\sigma^2}}\\\\\n",
    "=& {\\displaystyle \\sum_{i=1}^{1000} \\ln \\frac{1}{\\sqrt{2 \\pi \\sigma^2}} e^{-\\frac{(x_i-\\mu)^2}{2\\sigma^2}}}\\\\\n",
    "=& \\ln \\frac{1000}{\\sqrt{2 \\pi \\sigma^2}} {\\displaystyle \\sum_{i=1}^{1000} \\ln e^{-\\frac{(x_i-\\mu)^2}{2\\sigma^2}}}\\\\\n",
    "=& \\ln \\frac{1000}{\\sqrt{2 \\pi \\sigma^2}} {\\displaystyle \\sum_{i=1}^{1000} {-\\frac{(x_i-\\mu)^2}{2\\sigma^2}}}\\\\\n",
    "=& \\ln \\frac{1000}{\\sqrt{2 \\pi \\sigma^2}} {\\displaystyle \\sum_{i=1}^{1000} {-\\frac{(x_i^2-2\\mu x_i+\\mu^2)}{2\\sigma^2}}}\\\\\n",
    "\\end{align}\n",
    "    \n",
    "This result is nice in itself as an expression of the log-likelihood $\\mathcal{L}$ for a Gaussian distribution.\n",
    "\n",
    "Then taking the partial derivative of the above with respect to the mean gives\n",
    "\n",
    "\\begin{align}\n",
    "\\frac{\\partial \\ln (p(\\vec{x}|\\mu,\\,\\sigma))}{\\partial \\mu} =& \\frac{\\partial}{\\partial \\mu} \\ln \\frac{1}{\\sqrt{2 \\pi \\sigma^2}}{\\displaystyle \\sum_{i=1}^{1000} {-\\frac{(x_i^2-2\\mu x_i+\\mu^2)}{2\\sigma^2}}}\\\\\n",
    "=& \\frac{\\partial}{\\partial \\mu} {\\displaystyle \\sum_{i=1}^{1000} {-\\frac{(x_i^2-2\\mu x_i+\\mu^2)}{2\\sigma^2}}}\\\\\n",
    "=& -\\frac{1}{2\\sigma^2} {\\displaystyle \\sum_{i=1}^{1000}\\frac{\\partial}{\\partial \\mu}(x_i^2-2\\mu x_i+\\mu^2)}\\\\\n",
    "=& -\\frac{1}{2\\sigma^2} {\\displaystyle \\sum_{i=1}^{1000}-2x_i+2\\mu}\\\\\n",
    "=& \\frac{1}{\\sigma^2} {\\displaystyle \\sum_{i=1}^{1000}x_i-\\mu}\\\\\n",
    "=& 0\n",
    "\\end{align}\n",
    "\n",
    "This gives us a nice expression for the $\\mu$,\n",
    "\n",
    "\\begin{equation}\n",
    "\\mu = {\\displaystyle \\frac{1}{1000}\\sum_{i=1}^{1000} x_i},\n",
    "\\end{equation}\n",
    "which should not be a surprising result as the estimate of the mean is just the average of all of the samples.\n",
    "</div>"
   ]
  },
  {
   "cell_type": "code",
   "execution_count": 3,
   "id": "d4414ad2-c941-4a12-840e-cfedc5a4f245",
   "metadata": {},
   "outputs": [
    {
     "data": {
      "image/png": "[encoded data removed]",
      "text/plain": [
       "<Figure size 432x288 with 1 Axes>"
      ]
     },
     "metadata": {
      "needs_background": "light"
     },
     "output_type": "display_data"
    },
    {
     "name": "stdout",
     "output_type": "stream",
     "text": [
      "9.974689333514325\n"
     ]
    }
   ],
   "source": [
    "def return_log_likelihood(data,sigma):\n",
    "    samples = np.shape(data)[0]\n",
    "    \n",
    "    # Make a grid of uniform possible mean values\n",
    "    mu_grid = np.linspace(np.min(data),np.max(data),1000)\n",
    "    \n",
    "    # Initialize the lnL arary\n",
    "    lnL = np.zeros(1000)\n",
    "    \n",
    "    # Calculate\n",
    "    for i in range(1000):\n",
    "        for j in range(samples):\n",
    "            lnL[i] += np.log(1/(np.sqrt(2*np.pi*sigma**2)))*(data[j]-mu_grid[i])**2/(2*sigma**2)\n",
    "\n",
    "    return mu_grid,lnL\n",
    "    \n",
    "# Get the values\n",
    "x, lnL = return_log_likelihood(data,sigma)\n",
    "# Plot\n",
    "plt.plot(x,lnL)\n",
    "plt.show()\n",
    "\n",
    "def solve_for_ML(data,sigma):\n",
    "    samples = np.shape(data)[0]\n",
    "    \n",
    "    # Very Fortran-y, slow method:\n",
    "    amplitude = 0\n",
    "    for i in range(samples):\n",
    "        amplitude += data[i]\n",
    "        \n",
    "    amplitude = amplitude/samples\n",
    "    \n",
    "    return amplitude\n",
    "\n",
    "print(solve_for_ML(data,sigma))"
   ]
  },
  {
   "cell_type": "markdown",
   "id": "4be45303-01f3-49c9-b34a-5d96a280c9b1",
   "metadata": {},
   "source": [
    "### Multi-frequency example\n",
    "\n",
    "As we will see further on, determing the mean of an observable can be aided by (or in practice requires) the addition of multiple data points. As we move more towards a realistic example, we will say that we have observations at multiple frequencies. For a simple example, let's consider some observable which scales linearly with frequency. \n",
    "\n",
    "Let's create a new data set, where our observable has a mean value $a_{obs} = \\mu$, and each observation frequency has its own noise characterisitic $n_{\\nu}$.\n",
    "\n",
    "When carrying out this multi-frequency analysis, we need to determine a reference frequency $\\nu_{\\rm ref}$, at which we evaluate the recovered amplitude $a_{obs}$.\n",
    "\n",
    "Therefore, our new data model will be written as\n",
    "\n",
    "$d_{\\nu} = a_{obs}(\\nu/\\nu_{\\rm ref}) + n_{\\nu}$."
   ]
  },
  {
   "cell_type": "code",
   "execution_count": 4,
   "id": "d9ebaa8c-9a85-47fe-a2cb-a64002eb059f",
   "metadata": {},
   "outputs": [],
   "source": [
    "# New variables\n",
    "nfreq  = 5\n",
    "nus    = np.asarray([10.,20., 30.,40.,50.])\n",
    "sigmas = np.asarray([1., 1.5, 1.25, 2., 0.75])\n",
    "\n",
    "# Remake our data array\n",
    "data   = np.empty((ndraws,nfreq))\n",
    "\n",
    "# Reference frequency\n",
    "nu_ref = 20.\n",
    "\n",
    "# Define a frequency scaling function for the data\n",
    "def gen_spectrum(nu,nu_ref):\n",
    "    return (nu/nu_ref)\n",
    "\n",
    "# Simulate some data\n",
    "for i in range(ndraws):\n",
    "        for j in range(nfreq):\n",
    "            data[i][j] = mu*gen_spectrum(nus[j],nu_ref)+np.random.normal(0.0,sigmas[j])\n"
   ]
  },
  {
   "cell_type": "markdown",
   "id": "ba4a45e9-3032-4be1-abb4-1ec2e5089554",
   "metadata": {},
   "source": [
    "What does this data look like for us?"
   ]
  },
  {
   "cell_type": "code",
   "execution_count": 5,
   "id": "080867e6-b095-48e2-a563-2a5a38e28b48",
   "metadata": {},
   "outputs": [
    {
     "data": {
      "image/png": "[encoded data removed]",
      "text/plain": [
       "<Figure size 432x288 with 1 Axes>"
      ]
     },
     "metadata": {
      "needs_background": "light"
     },
     "output_type": "display_data"
    }
   ],
   "source": [
    "data_mean  = np.empty(nfreq)\n",
    "data_error = np.empty(nfreq)\n",
    "for j in range(nfreq):\n",
    "    data_mean[j]  = np.mean(data.T[j])\n",
    "    data_error[j] = np.std(data.T[j])\n",
    "    \n",
    "plt.errorbar(nus,data_mean,yerr=data_error,fmt='.',color='k')\n",
    "plt.xlabel('\"Frequency\"',size=15)\n",
    "plt.ylabel('Amplitude',size=15)\n",
    "plt.show()"
   ]
  },
  {
   "cell_type": "markdown",
   "id": "5e5c3344-6e79-410b-bfd8-f7e35a91ac99",
   "metadata": {},
   "source": [
    "We can see that it would be simple to draw a straight line through the points, though many straight lines may fit the through all of the error bars. It is vital that we make an estimate of the *best* fit to the data, not just a fit."
   ]
  },
  {
   "cell_type": "markdown",
   "id": "db54d87c-a1da-46be-8f7b-6048ddac90fb",
   "metadata": {},
   "source": [
    "### Task 2:\n",
    "\n",
    "- Generalize the `return_log_likelihood` function to work for the multi-frequency data and plot $\\mathcal{L}(a_{obs}|\\boldsymbol d)$ as a function of $a_{obs}$.\n",
    "\n",
    "- Generalize the `solve_for_ML` function to work for the multi-frequency data and find the ML value of $a_{obs}$.\n"
   ]
  },
  {
   "cell_type": "markdown",
   "id": "e6fe41c4-0b02-4fa9-a534-b1c48561ed9f",
   "metadata": {},
   "source": [
    "<div style=\"background-color:#e6f3ff; padding:10px; border-style:\n",
    "solid;; border-color:#0084ff; border-width:1px\">\n",
    "    \n",
    "### Solution"
   ]
  },
  {
   "cell_type": "code",
   "execution_count": 6,
   "id": "50613e8e-1411-4807-8d95-c5ef4f3dc109",
   "metadata": {},
   "outputs": [
    {
     "data": {
      "image/png": "[encoded data removed]",
      "text/plain": [
       "<Figure size 432x288 with 1 Axes>"
      ]
     },
     "metadata": {
      "needs_background": "light"
     },
     "output_type": "display_data"
    },
    {
     "name": "stdout",
     "output_type": "stream",
     "text": [
      "10.002147236660917\n"
     ]
    }
   ],
   "source": [
    "def return_log_likelihood(nus,data,sigma,spectrum):\n",
    "    samples = np.shape(data)[0]\n",
    "    nfreq   = np.shape(data)[1]\n",
    "    \n",
    "    ind = np.where(nus == nu_ref)\n",
    "    \n",
    "    # Make a grid of uniform possible mean values\n",
    "    mu_grid = np.linspace(np.min(data),np.max(data),1000)\n",
    "    \n",
    "    # Initialize the lnL arary\n",
    "    lnL = np.zeros(1000)\n",
    "    \n",
    "    # Calculate\n",
    "    for i in range(1000):\n",
    "        for k in range(samples):\n",
    "            for j in range(nfreq):\n",
    "                lnL[i] += np.log(1/(np.sqrt(2*np.pi*sigma**2)))*(data[k][j]-mu_grid[i]*gen_spectrum(nus[j],nu_ref))**2/(2*sigma**2)\n",
    "\n",
    "    return mu_grid,lnL\n",
    "    \n",
    "# Get the values\n",
    "x, lnL = return_log_likelihood(nus,data,sigma,gen_spectrum)\n",
    "# Plot\n",
    "plt.plot(x,lnL)\n",
    "plt.show()\n",
    "\n",
    "def solve_for_ML(nus,data,sigma,spectrum):\n",
    "    samples = np.shape(data)[0]\n",
    "    nfreq   = np.shape(data)[1]\n",
    "    \n",
    "    # Very Fortran-y, slow method:\n",
    "    amplitude = 0\n",
    "    for i in range(samples):\n",
    "        for j in range(nfreq):\n",
    "            amplitude += data[i][j]/gen_spectrum(nus[j],nu_ref)\n",
    "        \n",
    "    amplitude = amplitude/(samples*nfreq)\n",
    "    \n",
    "    return amplitude\n",
    "\n",
    "print(solve_for_ML(nus,data,sigma,gen_spectrum))"
   ]
  },
  {
   "cell_type": "markdown",
   "id": "8706a1de-4ea5-47f8-a244-918d83a7bdb0",
   "metadata": {},
   "source": [
    "# Interjection - Some Important Information\n",
    "\n",
    "## Generalization\n",
    "\n",
    "Up until now we have taken a very simple example, where we have a data vector containing samples, and we find the MLS. Before we move to drawing samples from noisy data, we will define some more general nomenclature. Our original data model looked something like\n",
    "\n",
    "\\begin{equation}\n",
    "d = s + n.\n",
    "\\end{equation}\n",
    "\n",
    "We then expanded the actual signal into an amplitude and a frequency scaling\n",
    "\n",
    "\\begin{equation}\n",
    "s = a_{obs}(\\nu/\\nu_{\\rm ref}).\n",
    "\\end{equation}\n",
    "\n",
    "This expansion of the signal term can be generalized in the following way\n",
    "\n",
    "\\begin{equation}\n",
    "s = Ta,\n",
    "\\end{equation}\n",
    "\n",
    "where $T$ is a matrix containing the scaling relation information (in this simple case $T=(\\nu/\\nu_{\\rm ref})$), and $a$ is a vector corresponding to the amplitudes we are looking for $a=a_{ obs}$.\n",
    "\n",
    "In essence, by finding the ML solution, we are solving the equation\n",
    "\n",
    "\\begin{equation}\n",
    "(T^t N^{-1} T)a = T^t N^{-1} d,\n",
    "\\end{equation}\n",
    "\n",
    "where $N^{-1}$ is the noise covariance matrix.\n",
    "\n",
    "To be explicit, through the remainder of this notebook we will be looking and multi-frequency observations (vital in Cosmological Component Separation) and aim to solve for the true signal sky signal $s_{\\nu}$ with the data model\n",
    "\n",
    "\\begin{equation}\n",
    "d_{\\nu} = s_{\\nu} + n_{\\nu},\n",
    "\\end{equation}\n",
    "\n",
    "by solving the linear equation  \n",
    "\n",
    "\\begin{equation}\n",
    "{\\displaystyle \\sum_{\\nu}(T_{\\nu}^t N_{\\nu}^{-1} T_{\\nu})a = \\sum_{\\nu}T_{\\nu}^t N_{\\nu}^{-1} d_{\\nu}}.\n",
    "\\end{equation}\n",
    "\n",
    "This equation will be expanded upon to include sampling and prior terms throughout this notebook. \n",
    "\n",
    "\n",
    "Note that when we move to more complex systems (many data sets with many pixels), filling and multiplying these matricies can be very expensive both computationally and for memory usage. A student interested in should read \"An Introduction to the Conjugate Gradient Method withouth the Agonizing Pain\" by Jonathan Shewchuk. It is excellent. Additionally, Numerical Recipes is always your friend when trying to solve complex linear systems computationally.\n",
    "\n"
   ]
  },
  {
   "cell_type": "markdown",
   "id": "6f605f15-9fda-4ba9-b03c-05995ba42be1",
   "metadata": {},
   "source": [
    "## Bayes Theorem\n",
    "\n",
    "Before getting too far into the weeds here, we will introduce Bayes' Theorem as well as a practical definition for our purposes. Given a set of parameters $\\vec{\\omega} = \\{\\omega_1,...,\\omega_k\\}$, we will define the posterior distribution of $\\boldsymbol \\omega$ with respect to the data as \n",
    "\n",
    "\\begin{equation}\n",
    "P(\\vec{\\omega}\\mid\\boldsymbol{d}) = \\frac{P(\\boldsymbol{d} \\mid \\vec{\\omega}) P(\\vec{\\omega})}{P(\\boldsymbol{d})} \\propto \\mathcal{L}(\\vec{\\omega}) P(\\vec{\\omega}),\n",
    "\\end{equation}\n",
    "where $ P(\\boldsymbol{d}\\mid\\vec{\\omega}) \\equiv \\mathcal{L}(\\vec{\\omega})$ is the likelihood function (as we have talked about above), $P(\\vec{\\omega})$ is the prior, and $P(\\boldsymbol{d})$ is a normalization factor which we disregard here as it is independent of the parameters $\\vec{\\omega}$."
   ]
  },
  {
   "cell_type": "markdown",
   "id": "54cf9798-416c-4487-8868-c2e7263745b5",
   "metadata": {
    "tags": []
   },
   "source": [
    "# Chapter 2 - Sampling Methods\n",
    "\n",
    "In Chapter 1 we have simply drawn Gaussian samples of the data using `numpy`, having already known the mean and standard deviation of our data. In map-space analysis, we work with sky maps that are characterized by a total sky signal amplitude $s_{\\nu}$, with an estimate of the noise $n_{\\nu}$, giving us our data\n",
    "\n",
    "\\begin{equation}\n",
    "d_{\\nu} = s_{\\nu} + n_{\\nu}.\n",
    "\\end{equation}\n",
    "\n",
    "This has been stated before and will be stated again in hopes of making you see the above equation when you close your eyes. We now wish to sample for $s_{\\nu}$, the *true* sky signal, seeing as we know the data $d_{\\nu}$ and have an estimate of the noise $n_{\\nu}$.\n",
    "\n",
    "Here we introduce three methods which we can use for sampling parameters. The Metropolis and Metropolis-Hastings methods are broadly used in MCMC methods and will be introduced here. These methods are usable in the general sense. Inversion Sampling is also introduced, which is used in the Commander/Cosmoglobe framework for sampling non-linear parameters, i.e., spectral indices. Finally from a Gaussian distribution is introduced. This is a core method to learn for sampling linear parameters and will be expanded upon in the next Chapter to the multi-variate case. In the Cosmoglobe/Commander framework this method is used to sample for Galactic foreground amplitudes."
   ]
  },
  {
   "cell_type": "markdown",
   "id": "3af1bf66-b13d-42cd-b4fc-c2bf92d49b8a",
   "metadata": {},
   "source": [
    "### Metropolis and Metropolis-Hastings Methods\n",
    "\n",
    "The Metropolis method is by far the most well-known of all of the MCMC sampling methods due to it's ease of implementation, tunability, and effectiveness. The Metropolis and Metropolis-Hastings algorithms are effective as all samples with a higher likelihood are accepted, while some samples with lower likelihoods will be accepted from time to time (this can be helpful to avoid becoming stuck around a local likelihood peak). \n",
    "\n",
    "Let us say we wish to sample for some parameter $\\omega$. Let $\\omega_j$ represent te $j$th sample of $\\omega$ in a Markov chain. We also need to define a stochastic proposal probablility distribution, $T(\\omega_{j+1}\\mid \\omega_{j})$, with which we tune in order to help with parameter convergence. In the Metropolis method, the proposal distribution is symmetric, i.e., $T(\\omega_{j+1}\\mid \\omega_{j})=T(\\omega_{j}\\mid \\omega_{j+1})$. In the Metropolis-Hastings method, this proposal distribution need not be symmetric.\n",
    "\n",
    "The next thing we need to define is the acceptance criterion, which tells us which samples we will accept and which ones we will not. This acceptance criterion is defined by the ratio of the densities, which is given by the ratio of the posterior probabilities as defined by Bayes' theorem ($\\frac{P(\\boldsymbol d \\mid \\omega_{j+1})}{P(\\boldsymbol d \\mid \\omega_{j})}$). If a prior is used to inform our sampling, this ratio is weighted by the ratio of the prior probabilities. Therefore our total definition of the acceptance probability $q$ is defined as\n",
    "\n",
    "\\begin{equation}\n",
    "q = \\frac{P(\\boldsymbol d \\mid \\omega_{j+1})}{P(\\boldsymbol d \\mid \\omega_{j})}\\frac{P(\\omega_{j+1})}{P(\\omega_j)}.\n",
    "\\end{equation}\n",
    "\n",
    "With these defined, we can now outline the algorithm itself. The algorthim is given by:\n",
    "\n",
    "1. Initialie chain at some parameter value $\\omega_0$.\n",
    "2. Draw a random sample from the proposal probability distribution, i.e., $\\omega_{j+1} \\leftarrow T(\\omega_{j+1}\\mid\\omega_j)$.\n",
    "3. Compute the acceptance probability $q$.\n",
    "4. Draw a random number $\\eta$ from a uniform distribution $U[0,1]$.\n",
    "5. Accept the proposed $\\omega_{j+1}$ if $\\eta < q$. Otherwise, set $\\omega_{j+1} = \\omega_{j}$.\n",
    "6. Repeate steps 2-5 until convergence."
   ]
  },
  {
   "cell_type": "markdown",
   "id": "1b5b8281-ffae-401e-9399-a2de145ef28f",
   "metadata": {},
   "source": [
    "### Inversion sampling\n",
    "Now that we have sampled the two amplitude parameters, we want to sample spectral parameters, which do not depend linearly on the data $d$, and are not Gaussian distributions, hence demand a different approach. \n",
    "To sample these two conditional distributions, we employ the \"inversion sampler\", which is completely general and works for all univariate distributions.\n",
    "In our case, we have the distribution\n",
    "\\begin{align}\n",
    "  P(\\beta\\mid d, a) &\\propto P(d\\mid a, \\beta) P(\\beta)\\\\\n",
    "  &\\propto \\left[\\prod_{\\nu}\n",
    "    \\mathrm \\exp\\left(-\\frac{1}{2}\\left(d_{\\nu}-T(\\beta)a\\right)^t N_{\\nu}^{-1}\\left(d_{\\nu}-T(\\beta)a\\right)\\right)\\right]P(\\beta).\n",
    "\\end{align}\n",
    "\n",
    "Using this for P(x) we can sample using the inversion sampler by:\n",
    "1. Compute $P(x)$ over a grid in $x$, making sure to probe the tails to sufficient accuracy.\n",
    "2. Compute the cumulative probability distribution, ${F(x) = \\int_{-\\infty}^{x} P(x')\\,\\mathrm dx'}$.\n",
    "3. Draw a random uniform variate, $\\eta \\sim U[0,1]$.\n",
    "4. Solve the nonlinear equation $\\eta = F(x)$ for $x$."
   ]
  },
  {
   "cell_type": "markdown",
   "id": "9a76edaf-61db-4af0-a555-63f62693ded6",
   "metadata": {},
   "source": [
    "### Sampling a Gaussian\n",
    "We may write $d = Ta+n = f(\\omega)\\cdot A + n$ where $\\omega$ is the set of spectral indices (such as $\\beta_{\\rm s}$ or $T_{\\rm d}$ for dust).\n",
    "If we rewrite this and assume that the noise is gaussian $n = d - Ta$ we can express the distribution as\n",
    "\\begin{align}\n",
    "P(a\\mid d, \\omega\\setminus a) &\\propto P(d\\mid\\omega)P(a)\\\\\n",
    "  &\\propto P(d\\mid a)P(a)\\\\\n",
    "  &\\propto \\left[\\prod_{\\nu} \\exp\\left(-\\frac{1}{2}(d_{\\nu}-T_{\\nu}a)^t N_{\\nu}^{-1}(d_{\\nu}-T_{\\nu}a)\\right)\\right]\\cdot P(a)\n",
    "\\end{align}\n",
    "which can be sampled by solving for $a$ in \n",
    "$$\\biggl(S^{-1} + \\sum_{\\nu}T^t_{\\nu}N_{\\nu}^{-1}T_{\\nu}\\biggr)\\,a = \\sum_\\nu T_{\\nu}^t N_\\nu^{-1}d_{\\nu}+\\sum_\\nu T_{\\nu}^t N_\\nu^{-1/2}m_{\\nu} + \\sum_{\\nu}T_{\\nu}^tN_{\\nu}^{-1/2}\\eta_{\\nu} + S^{-1/2}\\eta_{0},$$\n",
    "where S is a prior standarad deviation, N is the noise, m is the prior mean, and $\\eta$ are random normal values. For a full explanation on this, look at BeyondPlanck 1, appendix 2. \n",
    "\n",
    "Note here that the simplified case (no prior) \n",
    "\n",
    "\\begin{equation}\n",
    "\\biggl(\\sum_{\\nu}T^t_{\\nu}N_{\\nu}^{-1}T_{\\nu}\\biggr)\\,a = \\sum_\\nu T_{\\nu}^t N_\\nu^{-1}d_{\\nu} + \\sum_{\\nu}T_{\\nu}^tN_{\\nu}^{-1/2}\\eta_{\\nu},\n",
    "\\end{equation}\n",
    "\n",
    "is the same equation at the end of the previous section with an additional sampling term.\n",
    "\n",
    "We can also think of the above equation as \n",
    "\n",
    "\\begin{equation}\n",
    "a = \\biggl(\\sum_{\\nu}T^t_{\\nu}N_{\\nu}^{-1}T_{\\nu}\\biggr)^{-1}\\sum_\\nu T_{\\nu}^t N_\\nu^{-1}d_{\\nu} + \\biggl(\\sum_{\\nu}T^t_{\\nu}N_{\\nu}^{-1}T_{\\nu}\\biggr)^{-1}\\sum_{\\nu}T_{\\nu}^tN_{\\nu}^{-1/2}\\eta_{\\nu},\n",
    "\\end{equation}\n",
    "which is nice for the most simple cases.\n",
    "\n"
   ]
  },
  {
   "cell_type": "markdown",
   "id": "8a5a5775-bded-4f88-ac4b-02b69f737073",
   "metadata": {},
   "source": [
    "### Task 3: \n",
    "- With the new data below, again make new versions of the `return_log_likelihood` and `solve_for_ML` functions\n",
    "(Hint: for our new version of `solve_for_ML`, let's solve the equation $\\biggl(\\sum_{\\nu}T^t_{\\nu}N_{\\nu}^{-1}T_{\\nu}\\biggr)\\,a = \\sum_\\nu T_{\\nu}^t N_\\nu^{-1}d_{\\nu}$).\n",
    "- Create implementations for each of these sampling algorithms to sample for the amplitude of the data set defined in the cell below (no priors)\n",
    "- Plot chains for each of these sampling algorithms (Overplot the input amplitude and the ML solution).\n",
    "- Plot histograms of the samples for each of the algorithms"
   ]
  },
  {
   "cell_type": "code",
   "execution_count": 7,
   "id": "306e6110-653e-4877-b76b-73126fe0e0bd",
   "metadata": {},
   "outputs": [],
   "source": [
    "nbands      = 4\n",
    "newamp      = 7.5\n",
    "frequencies = np.asarray([10.,40.,70.,100.])\n",
    "ref_freq    = 40.\n",
    "noise       = np.asarray([0.75, 1.25, 2.0, 0.5])\n",
    "\n",
    "data        = newamp*gen_spectrum(frequencies,ref_freq)+np.random.normal(0.0,noise)"
   ]
  },
  {
   "cell_type": "code",
   "execution_count": 8,
   "id": "b1dfc7c8-1623-45ca-9b70-0955d9b49fe8",
   "metadata": {},
   "outputs": [],
   "source": [
    "def eval_loglikelihood(data,noise,spectrum,amplitude,frequencies):\n",
    "    return lnl\n",
    "\n",
    "def metropolis_sample(data,noise,spectrum,amplitude,frequencies,niter):\n",
    "    samples    = np.zeros(niter)\n",
    "    amp_sample = amplitude\n",
    "    # Define the step length of the proposal distribution\n",
    "    #step_size =\n",
    "    \n",
    "    # Evaluate the inital likelihood P(data|amp_sample)\n",
    "    # lnL_old = eval_loglikelihood(data,noise,spectrum,amp_sample)\n",
    "    # We will adopt a Gaussian distribution for our proposal distribution\n",
    "    for i in range(niter):\n",
    "        sample = amp_sample + np.random.normal(0.0,step_size)\n",
    "        \n",
    "        # Evaluate the probability of new sample\n",
    "        \n",
    "        # Calculate the ratio of the likelihoods\n",
    "        \n",
    "        # Calculate acceptance probability\n",
    "        \n",
    "        # If q >= U[0,1] accept, else, try again\n",
    "        \n",
    "        # Save sample so we can look at the chain afterwards\n",
    "        samples[i] = amp_sample\n",
    "    \n",
    "    return samples\n",
    "\n",
    "def inversion_sample(data,noise,spectrum,xs,frequencies,niter):\n",
    "    samples = np.zeros(niter)\n",
    "\n",
    "    # Compute P(x) over a grid in x ^^(xs)\n",
    "    \n",
    "    # Compute the cumulative probability distribution\n",
    "    \n",
    "    for i in range(niter):\n",
    "        # draw a random number\n",
    "        eta        = np.random.uniform(0,np.max(Fx))\n",
    "\n",
    "        # Find the value of the parameter which corresponds to the random number (i.e. solve for x where eta = F(x))\n",
    "\n",
    "    return samples\n",
    "\n",
    "def gaussian_sample(data,noise,spectrum,frequencies,niter):\n",
    "    # In this single pixel, single foreground case, the matrix T_nu is given\n",
    "    # by the spectrum at each frequency, as we attempted to described previously \n",
    "        \n",
    "    # Compute the static parts of the equation (no eta)\n",
    "\n",
    "    # For each iteration draw a random normal for each entry of eta\n",
    "    for i in range(niter):\n",
    "        for j in range(nbands):\n",
    "            eta[j] = np.random.normal(0.0,1.0)    \n",
    "        # Compute the sampling portion and save the sample\n",
    "        \n",
    "    return samples"
   ]
  },
  {
   "cell_type": "markdown",
   "id": "08b8545d-b794-4e76-9b82-d856dae942a9",
   "metadata": {
    "tags": []
   },
   "source": [
    "<div style=\"background-color:#e6f3ff; padding:10px; border-style:\n",
    "solid;; border-color:#0084ff; border-width:1px\">\n",
    "    \n",
    "### Solution"
   ]
  },
  {
   "cell_type": "code",
   "execution_count": 9,
   "id": "439af10e-3f88-4977-a4b9-74766f5f2c63",
   "metadata": {
    "tags": []
   },
   "outputs": [
    {
     "data": {
      "image/png": "[encoded data removed]",
      "text/plain": [
       "<Figure size 432x288 with 1 Axes>"
      ]
     },
     "metadata": {
      "needs_background": "light"
     },
     "output_type": "display_data"
    },
    {
     "name": "stdout",
     "output_type": "stream",
     "text": [
      "7.325194688553927\n"
     ]
    }
   ],
   "source": [
    "def return_log_likelihood(nus,data,sigma,spectrum):\n",
    "    nfreq = np.shape(nus)[0]\n",
    "    \n",
    "    # Make a grid of uniform possible mean values\n",
    "    mu_grid = np.linspace(np.min(data),np.max(data),1000)\n",
    "    \n",
    "    # Initialize the lnL arary\n",
    "    lnL = np.zeros(1000)\n",
    "    \n",
    "    # Calculate\n",
    "    for i in range(1000):\n",
    "        for j in range(nfreq):\n",
    "            lnL[i] += np.log(1/(np.sqrt(2*np.pi*sigma[j]**2)))*(data[j]-mu_grid[i]*spectrum[j])**2/(2*sigma[j]**2)\n",
    "\n",
    "    return mu_grid,lnL\n",
    "    \n",
    "# Get the values\n",
    "x, lnL = return_log_likelihood(frequencies,data,noise,gen_spectrum(frequencies,ref_freq))\n",
    "# Plot\n",
    "plt.plot(x,lnL)\n",
    "plt.show()\n",
    "\n",
    "def solve_for_ML(nus,data,sigma,spectrum):\n",
    "    # For our new version of finding the ML amplitude, let's consider the equation\n",
    "    #\n",
    "    # \\sum_{\\nu} (T_{\\nu}^t N_{\\nu}^{-1} T_{\\nu})amp = \\sum_{\\nu} (T_{\\nu}^t N_{\\nu}^{-1} d_{\\nu})\n",
    "    nfreq   = np.shape(data)[0]\n",
    "    \n",
    "    # Very Fortran-y, slow method:\n",
    "    amplitude = 0.\n",
    "    sum1      = 0.\n",
    "    sum2      = 0.\n",
    "    for j in range(nfreq):\n",
    "        sum1 += spectrum[j]/(sigma[j]**2)*data[j]\n",
    "        sum2 += spectrum[j]/(sigma[j]**2)*spectrum[j]\n",
    "        \n",
    "    amplitude = sum1/sum2\n",
    "    \n",
    "    return amplitude\n",
    "\n",
    "ML_sol = solve_for_ML(frequencies,data,noise,gen_spectrum(frequencies,ref_freq))\n",
    "\n",
    "print(ML_sol)"
   ]
  },
  {
   "cell_type": "code",
   "execution_count": 10,
   "id": "20386707-5ce5-40e8-ae9d-39116110eb3b",
   "metadata": {
    "tags": []
   },
   "outputs": [
    {
     "name": "stdout",
     "output_type": "stream",
     "text": [
      "(100,) (100,)\n"
     ]
    },
    {
     "data": {
      "image/png": "[encoded data removed]",
      "text/plain": [
       "<Figure size 576x864 with 6 Axes>"
      ]
     },
     "metadata": {
      "needs_background": "light"
     },
     "output_type": "display_data"
    }
   ],
   "source": [
    "from scipy.interpolate import interp1d\n",
    "\n",
    "def new_spectrum(frequency):\n",
    "    return (frequency/ref_freq)\n",
    "\n",
    "def eval_loglikelihood(data,noise,model,frequencies):\n",
    "    lnl = 0.0\n",
    "    for i in range(len(frequencies)):\n",
    "        lnl += -0.5*(data[i]-model[i])**2/(noise[i]**2)\n",
    "    return  lnl\n",
    "    \n",
    "def metropolis_sample(data,noise,spectrum,amplitude,frequencies,niter):\n",
    "    samples = np.zeros(niter)\n",
    "    \n",
    "    amp_sample = amplitude\n",
    "    # Define the step length of the proposal distribution\n",
    "    step_size = 0.25\n",
    "    \n",
    "    model = amp_sample*spectrum\n",
    "    \n",
    "    # Evaluate the inital likelihood P(data|amp_sample)\n",
    "    lnl_old = eval_loglikelihood(data,noise,model,frequencies)\n",
    "    \n",
    "    # We will adopt a Gaussian distribution for our proposal distribution\n",
    "    for i in range(niter):\n",
    "        sample = amp_sample + np.random.normal(0.0,step_size)\n",
    "        \n",
    "        model = sample*spectrum\n",
    "        \n",
    "        # Evaluate the probability of new sample\n",
    "        lnl_new = eval_loglikelihood(data,noise,model,frequencies)\n",
    "    \n",
    "        # Calculate the ratio of the likelihoods\n",
    "        ratio = lnl_new - lnl_old\n",
    "        \n",
    "        # Calculate acceptance probability\n",
    "        q = min(1.0,np.exp(ratio))\n",
    "        \n",
    "        # If q >= U[0,1] accept, else, try again\n",
    "        if q >= np.random.uniform(0,1):\n",
    "            amp_sample = sample\n",
    "            lnl_old    = lnl_new\n",
    "            \n",
    "        # Save sample so we can look at the chain afterwards\n",
    "        samples[i] = amp_sample\n",
    "        \n",
    "    return samples\n",
    "\n",
    "def inversion_sample_amp(data,noise,spectrum,xs,frequencies,niter):\n",
    "    samples = np.zeros(niter)\n",
    "\n",
    "    # Compute P(x) over a grid in x ^^(xs)\n",
    "    P = np.zeros(len(xs))\n",
    "    for i in range(len(xs)):\n",
    "        model = spectrum*xs[i]\n",
    "        P[i] = np.exp(eval_loglikelihood(data,noise,model,frequencies))\n",
    "    \n",
    "    # Compute the cumulative probability distribution\n",
    "    dx = xs[1]-xs[0]\n",
    "    Fx = np.cumsum(P*dx)\n",
    "    \n",
    "    print(np.shape(Fx),np.shape(xs))\n",
    "    \n",
    "    for i in range(niter):\n",
    "        # draw a random number\n",
    "        eta        = np.random.uniform(0,np.max(Fx))\n",
    "        c1         = min(xs); c2 = max(xs)\n",
    "        \n",
    "        # Find the value of the parameter which corresponds to the random number (i.e. solve for x where eta = F(x))\n",
    "        f          = interp1d(Fx, xs, bounds_error=False, fill_value=(c1,c2))\n",
    "        samples[i] = f(eta)\n",
    "    return samples\n",
    "\n",
    "def gaussian_sample(data,noise,spectrum,frequencies,niter):\n",
    "    # In this single pixel, single foreground case, the matrix T_nu is given\n",
    "    # by the spectrum at each frequency, as we attempted to described previously\n",
    "    \n",
    "    samples = np.zeros(niter) \n",
    "    eta     = np.empty(np.shape(data)[0])\n",
    "    T_nu    = spectrum    \n",
    "        \n",
    "    # Compute the static parts of the equation (no eta)\n",
    "    a11     = sum(data*T_nu/noise**2)\n",
    "    a2      = sum(T_nu/noise**2*T_nu)\n",
    "\n",
    "    # For each iteration draw a random normal for each entry of eta\n",
    "    for i in range(niter):\n",
    "        for j in range(np.shape(data)[0]):\n",
    "            eta[j] = np.random.normal(0.0,1.0)    \n",
    "        # Compute the sampling portion and save the sample\n",
    "        a12 = sum(T_nu/noise*eta)\n",
    "        samples[i] = (a11+a12)/a2\n",
    "        \n",
    "    return samples\n",
    "\n",
    "samples_metrop = metropolis_sample(data,noise,new_spectrum(frequencies),5.0,frequencies,1000)\n",
    "samples_invers = inversion_sample_amp(data,noise,new_spectrum(frequencies),np.linspace(1.0,10.0,100),frequencies,1000)\n",
    "samples_gauss  = gaussian_sample(data,noise,new_spectrum(frequencies),frequencies,1000)\n",
    "x   = np.linspace(1,1000,1000)\n",
    "\n",
    "\n",
    "fig, ax = plt.subplots(3,2,figsize=(8,12)) \n",
    "ax[0][0].plot(x,samples_metrop); ax[0][1].hist(samples_metrop,bins=25)\n",
    "ax[0][0].axhline(newamp,color='k',linestyle='--',label='Input');ax[0][0].axhline(ML_sol,color='red',linestyle='-.',label='ML')\n",
    "ax[0][0].legend()\n",
    "ax[1][0].plot(x,samples_invers); ax[1][1].hist(samples_invers,bins=25)\n",
    "ax[1][0].axhline(newamp,color='k',linestyle='--',label='Input');ax[1][0].axhline(ML_sol,color='red',linestyle='-.',label='ML')\n",
    "ax[1][0].legend()\n",
    "ax[2][0].plot(x,samples_gauss);  ax[2][1].hist(samples_gauss,bins=25)\n",
    "ax[2][0].axhline(newamp,color='k',linestyle='--',label='Input');ax[2][0].axhline(ML_sol,color='red',linestyle='-.',label='ML')\n",
    "ax[2][0].legend()\n",
    "plt.savefig('for_gustav',dpi=100,bbox_inches='tight')\n",
    "plt.show()\n",
    "            "
   ]
  },
  {
   "cell_type": "markdown",
   "id": "26965237-caab-42c0-ba7e-0fd8c4565b61",
   "metadata": {},
   "source": [
    "# Chapter 3 - A Step Closer to the Microwave Sky - Introducing More Foregrounds"
   ]
  },
  {
   "cell_type": "markdown",
   "id": "12d0effc-b68d-4619-8747-d440c441fbc0",
   "metadata": {},
   "source": [
    "In this chapter we will simulate a simplified example of the Microwave Sky. We will consider a single-pixel example that includes the CMB, synchrotron, and thermal dust radiation, with frequencies similar to that of the Planck satellite. "
   ]
  },
  {
   "cell_type": "markdown",
   "id": "20c2c30d-20b7-451d-85fc-785fe373b74d",
   "metadata": {
    "tags": []
   },
   "source": [
    "# Simulate a Single Pixel Data Set"
   ]
  },
  {
   "cell_type": "markdown",
   "id": "3e15cad8-83ae-45dd-9391-3087dbc91a3b",
   "metadata": {},
   "source": [
    "Let's begin by first importing a couple useful functions and constants. We will also introduce an array of frequencies corresponding to the *Planck* satellite band's central frequencies, as well as their corresponding polarization sensitivities. Will use these for the remainder of the exercises. You are of course free to add your own frequencies and sensitivities if you wish."
   ]
  },
  {
   "cell_type": "code",
   "execution_count": 10,
   "id": "7a88d032-8b87-42ef-8e3a-afe63dca1c2e",
   "metadata": {},
   "outputs": [],
   "source": [
    "# Constants\n",
    "kb     = 1.38e-23      # Boltzmanns constant\n",
    "Tcmb   = 2.7255        # CMB temperature\n",
    "h      = 6.626e-34     # Plancks constant\n",
    "\n",
    "#Pixel size. Small number => large pixels => little noise pr pixel\n",
    "nside  = 64\n",
    "\n",
    "#Frequency bands for Planck\n",
    "nbands = 9\n",
    "freq   = np.array([30., 44., 70., 100., 143., 217., 353., 545., 857.])\n",
    "\n",
    "#Noise level pr pixel, pr frequency\n",
    "sigma  = np.array([1.2, 2.7, 3.2, 5.6, 2.1, 3.8, 1.3, 2.9, 1.7])*nside/512 \n",
    "\n",
    "# Unit conversion between Rayleigh–Jeans units and cmb units\n",
    "def Kcmb_to_Krj(frequency):\n",
    "    xx = h*frequency*1.0e9/(kb*Tcmb)\n",
    "    return xx**2*np.exp(xx)/((np.exp(xx)-1.)**2)"
   ]
  },
  {
   "cell_type": "markdown",
   "id": "374d12bb-a37d-4a9d-b2dc-a8c6dd62df3b",
   "metadata": {
    "tags": []
   },
   "source": [
    "## Simulated sky data\n",
    "Now we can simulate our data using this sky model for a given set of frequencies. Below we set the model parameters, the set of frequencies, the level of noise for each frequency and which frequency we use as pivot frequency (reference frequency) for dust and syncrotron. \n",
    "\n",
    "We have added all the Planck frequencies for to illuminate the coverage of the experiment. We will begin with an example similar to that of our last. Synchrotron radiation is, with both physical and observation support, assume to have a power-law frequency scaling (in $\\mu K_{\\rm RJ}$ units, see Synchrotron lecture). This is essentially the same model we just ran with, with just an additional term. Explicitly the synchrotron sky signal at frequency $\\nu$, $s_{\\rm s,\\,\\nu}$ is given by \n",
    "\n",
    "\\begin{equation}\n",
    "s_{\\rm s,\\,\\nu} = A_{\\rm s} \\Big(\\frac{\\nu}{\\nu_{\\rm 0,\\,s}}\\Big)^{\\beta_{\\rm s}},\n",
    "\\end{equation}\n",
    "where $\\beta_{\\rm s}$ has typical values between -3.0 and -3.2. Let us begin by defining a simple class to store our synchrotron information."
   ]
  },
  {
   "cell_type": "code",
   "execution_count": 11,
   "id": "2d397ad4-3706-4f6a-8047-2ee06e7c528c",
   "metadata": {},
   "outputs": [],
   "source": [
    "class synch_comp:\n",
    "    def __init__(self,nu_ref,amplitude,beta):\n",
    "        self.par    = np.empty(2)\n",
    "        self.nu_ref = nu_ref\n",
    "        self.par[0] = amplitude\n",
    "        self.par[1] = beta\n",
    "    def spectrum(self,nu,beta=None):\n",
    "        beta = self.par[1] if beta is None else beta\n",
    "        return (nu/self.nu_ref)**beta\n",
    "    def model(self,nu):\n",
    "#         self.model = self.par[0]*self.spectrum(self.nu_ref)\n",
    "        return self.par[0]*self.spectrum(nu)"
   ]
  },
  {
   "cell_type": "markdown",
   "id": "e295a7cc-92a2-4b10-9862-11adcb3e85c2",
   "metadata": {},
   "source": [
    "Now we will simulate the synchrotron sky signal across the *Planck* frequency channels, and sample the corresponding parameters (i.e. $A_{\\rm s}$ and $\\beta_{\\rm s}$)."
   ]
  },
  {
   "cell_type": "code",
   "execution_count": 12,
   "id": "49c18042-2287-4f0a-af68-086737760a0d",
   "metadata": {},
   "outputs": [
    {
     "name": "stdout",
     "output_type": "stream",
     "text": [
      "[ 1.19080670e+01  3.54195871e+00  8.65583903e-01 -9.43871914e-02\n",
      "  1.03310149e-01 -1.90722288e-03 -1.11156715e-01  1.82186002e-02\n",
      "  6.72197110e-02]\n"
     ]
    },
    {
     "data": {
      "image/png": "[encoded data removed]",
      "text/plain": [
       "<Figure size 432x288 with 1 Axes>"
      ]
     },
     "metadata": {
      "needs_background": "light"
     },
     "output_type": "display_data"
    }
   ],
   "source": [
    "# We will adopt a reference frequency of 30 GHz as this is where we have the highest synchrotron signal-to-noise\n",
    "# We Will also take a fiducial value of 12. muK_{RJ} for the amplitude\n",
    "# Finally we will also assume that beta_s = -3.1\n",
    "\n",
    "synch = synch_comp(30.0,12.,-3.1)\n",
    "d_synch = np.empty(nbands)\n",
    "s_synch = np.empty(nbands)\n",
    "for j in range(nbands):\n",
    "    s_synch[j] = synch.par[0]*synch.spectrum(freq[j],synch.par[1])\n",
    "    d_synch[j] = synch.par[0]*synch.spectrum(freq[j],synch.par[1]) + np.random.normal(0.0,sigma[j])\n",
    "    \n",
    "plt.scatter(freq,s_synch)\n",
    "plt.scatter(freq,d_synch)\n",
    "plt.yscale('log')\n",
    "plt.xscale('log')\n",
    "\n",
    "print(d_synch)"
   ]
  },
  {
   "cell_type": "markdown",
   "id": "9296e9b5-3382-4e99-988a-0d2b6b07bc6f",
   "metadata": {
    "tags": []
   },
   "source": [
    "If we print out the data we can see that we quickly hit the \"noise floor\", where the magnitude of the synchrotron emission is lower than the uncertainty in our measurement. Gathering high signal-to-noise observations is vital in CMB experiment, specifically in polarization as the CMB signal is very weak. Hopefully we will see some of the difficulties this can cause us through these exercises.\n",
    "\n",
    "### Task 4:\n",
    "- Find the ML solution for $A_{\\rm s}$.\n",
    "- With the simulated data, use the Gaussian sampling method to make an estimate of $A_{\\rm s}$ given the data, and assuming $\\beta_{\\rm s} = -3.1$. Plot the chain of samples. Along with the samples, also plot the $\\chi^2 = (data-model)^2/\\sigma^2$.\n",
    "- Using some intuition, try removing some frequency bands from the fit and see how it affects the ML solution and the sampling chain. Comment on how/if making data cuts affects your results."
   ]
  },
  {
   "cell_type": "markdown",
   "id": "0be57c61-ddd8-4a59-905e-98bf2ee6c804",
   "metadata": {},
   "source": [
    "<div style=\"background-color:#e6f3ff; padding:10px; border-style:\n",
    "solid;; border-color:#0084ff; border-width:1px\">\n",
    "    \n",
    "### Solution"
   ]
  },
  {
   "cell_type": "code",
   "execution_count": null,
   "id": "e74c84ed-44e8-4d13-ab5d-fb4f5617855e",
   "metadata": {},
   "outputs": [],
   "source": [
    "ml_As = solve_for_ML(freq,d_synch,sigma,synch.spectrum(freq,beta=synch.par[1]))\n",
    "\n",
    "print(ml_As)\n",
    "\n",
    "samples_As  = gaussian_sample(d_synch,sigma,synch.spectrum(freq,beta=synch.par[1]),freq,1000)\n",
    "\n",
    "plt.plot(x,samples_As)\n",
    "plt.xlabel('Sample Number',size=15)\n",
    "plt.ylabel(r'$A_{\\rm s}$',size=15)\n",
    "plt.axhline(ml_As,color='red',linestyle='-.',label='ML')\n",
    "plt.axhline(12.,color='k',linestyle='--',label='Input')\n",
    "plt.legend()"
   ]
  },
  {
   "cell_type": "code",
   "execution_count": null,
   "id": "05dedf54-540c-4719-b4e6-febabf68a819",
   "metadata": {},
   "outputs": [],
   "source": [
    "ml_As = solve_for_ML(freq[:2],d_synch[:2],sigma[:2],synch.spectrum(freq[:2],beta=synch.par[1]))\n",
    "\n",
    "print(ml_As)\n",
    "\n",
    "samples_As  = gaussian_sample(d_synch[:2],sigma[:2],synch.spectrum(freq[:2],beta=synch.par[1]),freq[:2],1000)\n",
    "\n",
    "plt.plot(x,samples_As)\n",
    "plt.xlabel('Sample Number',size=15)\n",
    "plt.ylabel(r'$A_{\\rm s}$',size=15)\n",
    "plt.axhline(ml_As,color='red',linestyle='-.',label='ML')\n",
    "plt.axhline(12.,color='k',linestyle='--',label='Input')\n",
    "plt.legend()"
   ]
  },
  {
   "cell_type": "markdown",
   "id": "d721cbf8-6b32-45e4-8122-062ab698e155",
   "metadata": {},
   "source": [
    "### Task 5\n",
    "- Adjust the likelihood evaluation within the inversion sampler to accept arbitrary data models to fit to the data.\n",
    "- Assume that $A_{\\rm s} = 12.0$. Using the inversion sampler and all of the data, sample for $\\beta_{\\rm s}$.\n",
    "- Again, try making a data cut to see how it affects the fit."
   ]
  },
  {
   "cell_type": "markdown",
   "id": "cedca0d4-42e8-4d60-9415-b0d41b5347f3",
   "metadata": {},
   "source": [
    "<div style=\"background-color:#e6f3ff; padding:10px; border-style:\n",
    "solid;; border-color:#0084ff; border-width:1px\">\n",
    "    \n",
    "### Solution"
   ]
  },
  {
   "cell_type": "code",
   "execution_count": null,
   "id": "9a1de2db-4e4b-4ba2-a517-e11b0480de7e",
   "metadata": {},
   "outputs": [],
   "source": [
    "def eval_loglikelihood(data,noise,model,frequencies):\n",
    "    lnl = 0.0\n",
    "    for i in range(len(frequencies)):\n",
    "        lnl += -0.5*(data[i]-model[i])**2/(noise[i]**2)\n",
    "    return  lnl\n",
    "    \n",
    "def inversion_sample(data,noise,frequencies,niter,comp,parnum,xs):\n",
    "    \"\"\"\n",
    "    data        : input data to fit to\n",
    "    noise       : noise level of the data\n",
    "    frequencies : frequencies of the data\n",
    "    niter       : How many samples to take\n",
    "    comp        : component class\n",
    "    parnum      : component parameter to sample\n",
    "    xs          : grid for param parnum\n",
    "    \"\"\"\n",
    "    \n",
    "    samples = np.zeros(niter)\n",
    "    \n",
    "    # Compute P(x) over a grid in x ^^(xs)\n",
    "    P = np.zeros(len(xs))\n",
    "    for i in range(len(xs)):\n",
    "        if parnum == 0:\n",
    "            model = xs[i]*comp.spectrum(frequencies)\n",
    "        elif parnum == 1:\n",
    "            model = comp.par[0]*comp.spectrum(frequencies,beta=xs[i])\n",
    "        elif parnum == 2:\n",
    "            model = comp.par[0]*comp.spectrum(frequencies,Td=xs[i])\n",
    "        \n",
    "        P[i] = np.exp(eval_loglikelihood(data,noise,model,frequencies))\n",
    "    \n",
    "    # Compute the cumulative probability distribution\n",
    "    dx = xs[1]-xs[0]\n",
    "    Fx = np.cumsum(P*dx)\n",
    "    \n",
    "    for i in range(niter):\n",
    "        # draw a random number\n",
    "        eta        = np.random.uniform(0,np.max(Fx))\n",
    "        c1         = min(xs); c2 = max(xs)\n",
    "        \n",
    "        # Find the value of the parameter which corresponds to the random number (i.e. solve for x where eta = F(x))\n",
    "        f          = interp1d(Fx, xs, bounds_error=False, fill_value=(c1,c2))\n",
    "        samples[i] = f(eta)\n",
    "    return samples\n",
    "\n",
    "def metropolis_sample(data,noise,frequencies,niter,comp,parnum):\n",
    "    samples = np.zeros(niter)\n",
    "    \n",
    "    if parnum == 0:\n",
    "        amp_sample = comp.par[0]\n",
    "    if parnum == 1:\n",
    "        amp_sample = comp.par[1]\n",
    "    if parnum == 2:\n",
    "        amp_sample = comp.par[2]\n",
    "    # Define the step length of the proposal distribution\n",
    "    step_size = 0.25\n",
    "    \n",
    "    model = comp.par[0]*comp.spectrum(frequencies)\n",
    "    \n",
    "    # Evaluate the inital likelihood P(data|amp_sample)\n",
    "    lnl_old = eval_loglikelihood(data,noise,model,frequencies)\n",
    "    \n",
    "    # We will adopt a Gaussian distribution for our proposal distribution\n",
    "    for i in range(niter):\n",
    "        sample = amp_sample + np.random.normal(0.0,step_size)\n",
    "            \n",
    "        if parnum == 0:\n",
    "            model  = sample*comp.spectrum(frequencies)\n",
    "        \n",
    "        if parnum == 1:\n",
    "            model  = comp.par[0]*comp.spectrum(frequencies,beta=sample)\n",
    "\n",
    "        if parnum == 2:\n",
    "            model  = comp.par[0]*comp.spectrum(frequencies,Td=sample)\n",
    "\n",
    "        # Evaluate the probability of new sample\n",
    "        lnl_new = eval_loglikelihood(data,noise,model,frequencies)\n",
    "    \n",
    "        # Calculate the ratio of the likelihoods\n",
    "        ratio = lnl_new - lnl_old\n",
    "        \n",
    "        # Calculate acceptance probability\n",
    "        q = min(1.0,np.exp(ratio))\n",
    "        \n",
    "        # If q >= U[0,1] accept, else, try again\n",
    "        if q >= np.random.uniform(0,1):\n",
    "            amp_sample = sample\n",
    "            lnl_old    = lnl_new\n",
    "            \n",
    "        # Save sample so we can look at the chain afterwards\n",
    "        samples[i] = amp_sample\n",
    "        \n",
    "    return samples"
   ]
  },
  {
   "cell_type": "code",
   "execution_count": null,
   "id": "e3977db1-bc96-4328-9e29-50a47fc1beca",
   "metadata": {},
   "outputs": [],
   "source": [
    "synch.par[0] = 12.0\n",
    "\n",
    "samples_betas = inversion_sample(d_synch,sigma,freq,1000,synch,1,np.linspace(-3.3,-2.9,100))\n",
    "plt.plot(x,samples_betas)\n",
    "plt.xlabel('Sample Number',size=15)\n",
    "plt.ylabel(r'$\\beta_{\\rm s}$',size=15)\n",
    "plt.show()"
   ]
  },
  {
   "cell_type": "code",
   "execution_count": null,
   "id": "98c9f93c-2038-4c27-ba6d-8d4525ee7d3a",
   "metadata": {},
   "outputs": [],
   "source": [
    "synch.par[0] = 12.0\n",
    "\n",
    "samples_betas = inversion_sample(d_synch[:2],sigma[:2],freq[:2],1000,synch,1,np.linspace(-3.3,-2.9,100))\n",
    "plt.plot(x,samples_betas)\n",
    "plt.xlabel('Sample Number',size=15)\n",
    "plt.ylabel(r'$\\beta_{\\rm s}$',size=15)\n",
    "plt.show()"
   ]
  },
  {
   "cell_type": "markdown",
   "id": "209b2d28-2fb4-426e-bc27-f07a3bac2f1c",
   "metadata": {},
   "source": [
    "## Gibbs Sampling \n",
    "\n",
    "Now that we have sampled two parameters separately, while holding the other constant, we can introduce Gibbs sampling. Gibbs sampling is the core of the \\texttt{Commander} and Cosmoglobe frameworks, and is a useful tool for mapping out multi-dimensional parameter spaces. Consider a data model with some set of parameters $\\vec{\\omega} = \\{\\omega_0,..,\\omega_k\\}$. We utilize Bayes Theorem, as defined earlier, to explore this parameter space. Gibbs sampling functions by sampling each of these parameters $\\omega_{i}$ individually, while holding all of the parameters constant. Therefore, in each Gibbs chain there are $k$ steps, such that we draw samples in the following way\n",
    "\n",
    "\\begin{align}\n",
    "\\omega_{0} &\\leftarrow P(\\omega_{0}\\mid \\vec{d},\\,\\omega_{1},\\,\\omega_{2},\\cdots,\\,\\omega_{k})\\\\\n",
    "\\omega_{1} &\\leftarrow P(\\omega_{1}\\mid \\vec{d},\\,\\omega_{0},\\,\\omega_{2},\\,\\cdots,\\,\\omega_{k})\\\\\n",
    "&\\vdots\\\\\n",
    "\\omega_{k} &\\leftarrow P(\\omega_{k}\\mid \\vec{d},\\,\\omega_{0},\\,\\omega_{1},\\,\\cdots,\\,\\omega_{k-1}).\n",
    "\\end{align}\n",
    "\n",
    "Let's try a simple example here with our two synchrotron parameters. Seeing as we have simulated the data ourselves, we already know what the correct answer should be, but in practice we don't know what the true sky signal looks like *a priori*. Let's say that we think that the realy synchrotron amplitude $A_{\\rm s} = 10.0$, and that the synchrotron spectral index $\\beta_{\\rm s} = -3.0$."
   ]
  },
  {
   "cell_type": "markdown",
   "id": "49e6c247-1148-407d-9d39-5e244173a39a",
   "metadata": {},
   "source": [
    "### Task 6\n",
    "- Initialize with $A_{\\rm s} = 5.0$, $\\beta_{\\rm s} = -2.5$. Remember to set your inversion sampler grid to a wider range.\n",
    "- Instead of many samples per iteration, draw just a few (3-5) samples of each parameter, then switch to the next. I.e. sample $A_{\\rm s}\\mid\\beta_{\\rm s}$, then sample $\\beta_{\\rm s}$, and save both values, then repeat. Do this for 250 Gibbs samples. Also plot the $\\chi^2$."
   ]
  },
  {
   "cell_type": "markdown",
   "id": "9bee4480-2389-402f-9a14-40d7d723b207",
   "metadata": {},
   "source": [
    "<div style=\"background-color:#e6f3ff; padding:10px; border-style:\n",
    "solid;; border-color:#0084ff; border-width:1px\">\n",
    "    \n",
    "### Solution"
   ]
  },
  {
   "cell_type": "code",
   "execution_count": null,
   "id": "23877f14-94e6-4650-9c58-0b26d9625503",
   "metadata": {},
   "outputs": [],
   "source": [
    "synch.par[0] = 5.0\n",
    "synch.par[1] = -2.5\n",
    "\n",
    "ngibbs       = 250\n",
    "iters        = np.linspace(1,ngibbs,ngibbs)\n",
    "As_samples   = np.empty(ngibbs)\n",
    "bs_samples   = np.empty(ngibbs)\n",
    "res          = np.empty(ngibbs)\n",
    "chisq        = np.empty(ngibbs)\n",
    "\n",
    "for i in range(ngibbs):\n",
    "    # Draw a sample and overwrite old parameter\n",
    "    synch.par[1]  = inversion_sample(d_synch,sigma,freq,3,synch,1,np.linspace(-3.9,-2.5,100))[-1]\n",
    "    # Save what we drew\n",
    "    bs_samples[i] = synch.par[1]\n",
    "    # Draw a sample and overwrite old parameter\n",
    "    synch.par[0]  = gaussian_sample(d_synch,sigma,synch.spectrum(freq),freq,1)[-1]\n",
    "    # Save what we drew\n",
    "    As_samples[i] = synch.par[0]\n",
    "    # Evaluate the model\n",
    "    model         = synch.par[0]*synch.spectrum(freq)\n",
    "    res[i]        = sum(d_synch-model)\n",
    "    # Evaluate the chisquare\n",
    "    chisq[i]      = 0.0#-2.*eval_loglikelihood(d_synch,sigma,model,freq)\n",
    "    for j in range(nbands):\n",
    "        chisq[i] += (d_synch[j]-model[j])**2/sigma[j]**2\n",
    "    chisq[i] = chisq[i]/(nbands)\n",
    "    \n",
    "fig, ax = plt.subplots(3,1,figsize=(5,15),sharex=True)\n",
    "ax[0].plot(iters,As_samples); ax[0].set_ylabel(r'$A_{\\rm s}$',size=15)\n",
    "ax[1].plot(iters,bs_samples); ax[1].set_ylabel(r'$\\beta_{\\rm s}$',size=15)\n",
    "ax[2].plot(iters,chisq); ax[2].set_ylabel(r'$\\chi^2$',size=15)\n",
    "ax[2].set_xlabel('Gibbs Iteration',size=15)\n",
    "plt.show()"
   ]
  },
  {
   "cell_type": "markdown",
   "id": "f2a4f518-ed73-45a1-bc04-4289aff3b8e5",
   "metadata": {
    "tags": []
   },
   "source": [
    "# Chapter 4 - Now with More Components - Expanding the Gibbs sampler\n",
    "\n",
    "### Excellent! Well done!\n",
    "\n",
    "Now we're really getting some practical stuff done! Hopefully you've gained some understanding of the theory behind sampling for parameters, and how it is done in practice as well. Now that we have the base infrastructure built, we want to expand to more and more realistic examples. Let's introduce some more foregrounds which you can create classes for and simulate a more complex data set. Let's add two more components, thermal dust emission, and the CMB. These are two good components to introduce as they are prevalent in total intensity, as well as in polarization. Recall that we are working in Rayleigh-Jeans units, and will introduce the parametric models for these components in such units. And as a consistent reminder, details on microwave sky foregrounds can be found in the online lectures.\n",
    "\n",
    "### CMB\n",
    "For the CMB radiation we have \n",
    "$$s_{\\mathrm{CMB},\\,\\nu} = a_{\\mathrm{CMB},\\,\\nu} \\frac{x^2e^{x}}{\\left(e^{x}-1\\right)^2}$$\n",
    "where $a_{\\mathrm{CMB}}$ is the strength (amplitude) of the signal and the rest is a converstion factor between Rayleigh Jeans units and CMB units where  $x=h\\nu/kT_0$.\n",
    "\n",
    "### Thermal dust\n",
    "Thermal dust dominates the higher frequencies. Dust is modelled with a modified blackbody function, \n",
    "$$s_{\\mathrm{d},\\,\\nu} = a_{\\mathrm{d},\\,\\nu}\\,\\left(\\frac{\\nu}{\\nu_{0,\\mathrm{d}}}\\right)^{\\beta_{\\mathrm{d}}+1}\\frac{e^{h\\nu_{\\mathrm{0,\\mathrm{d}}}/kT_{\\mathrm{d}}}-1}{e^{h\\nu /kT_{\\mathrm{d}}}-1}$$\n",
    "where $a_{\\mathrm{d}}$ is the strength of the signal at the reference frequency $\\nu_{0,\\mathrm{d}}$, $\\beta_{\\mathrm{d}}$ is the spectral index and $T_{\\mathrm{d}}$ is the dust temperature. \n",
    "\n",
    "## Full sky model \n",
    "The sky model $s_{\\mathrm{RJ},\\,\\nu}$ that we will use is thus given by this model \n",
    "$$s_{\\mathrm{RJ},\\,\\nu} =s_{\\mathrm{CMB},\\,\\nu} + s_{\\mathrm{s},\\,\\nu}+ s_{\\mathrm{d},\\,\\nu}$$containing a total of seven \n",
    "parameters to be sampled. Three amplitudes ($a_{\\mathrm{CMB}}$, $a_{\\mathrm{s}}$ and $a_{\\mathrm{d}}$), two spectral indexes ($\\beta_{\\mathrm{s}}$ and $\\beta_{\\mathrm{s}}$) and thermal dust ($T_{\\mathrm{d}}$). Given the total degrees of freedom, we need at least 7 frequency bands to constrain this model. \n",
    "\n"
   ]
  },
  {
   "cell_type": "markdown",
   "id": "97c3a2ac-7c37-483b-8b2b-f40284e25ebc",
   "metadata": {},
   "source": [
    "### Task 7\n",
    "- Create classes for both thermal dust emission and the CMB component (Hint: The CMB is constant in $\\mathrm{K}_{\\rm CMB}$.\n",
    "- Create a set of simulated *Planck* data, with $A_{\\rm CMB} = 2.00$, and $A_{\\rm d} = 8.0$ @ 353 GHz, with $\\beta_{\\rm d} = 1.6$ and $T_{\\rm d} = 19.6 \\mathrm{K}$.\n",
    "- Plot the SED of the simulated data. At what frequencies do each of the three components dominate? Does the CMB dominate over the sum of foregrounds in any frequency range?\n",
    "- Add noise to the simulations, and add a plot the sum of all components compared to the noiseless SEDs."
   ]
  },
  {
   "cell_type": "markdown",
   "id": "55cc623e-f77a-4cc8-9551-258d226fcd90",
   "metadata": {},
   "source": [
    "<div style=\"background-color:#e6f3ff; padding:10px; border-style:\n",
    "solid;; border-color:#0084ff; border-width:1px\">\n",
    "    \n",
    "### Solution"
   ]
  },
  {
   "cell_type": "code",
   "execution_count": null,
   "id": "cfe30074-5806-485d-9407-a43a5e99eca9",
   "metadata": {},
   "outputs": [],
   "source": [
    "class synch_comp:\n",
    "    def __init__(self,nu_ref,amplitude,beta):\n",
    "        self.par    = np.empty(2)\n",
    "        self.nu_ref = nu_ref\n",
    "        self.par[0] = amplitude\n",
    "        self.par[1] = beta\n",
    "    def spectrum(self,nu,beta=None):\n",
    "        beta = self.par[1] if beta is None else beta\n",
    "        return (nu/self.nu_ref)**beta\n",
    "    def model(self,nu):\n",
    "#         self.model = self.par[0]*self.spectrum(self.nu_ref)\n",
    "        return self.par[0]*self.spectrum(nu)\n",
    "\n",
    "class dust_comp:\n",
    "    def __init__(self,nu_ref,amplitude,beta,Td):\n",
    "        self.par    = np.empty(3)\n",
    "        self.nu_ref = nu_ref\n",
    "        self.par[0] = amplitude\n",
    "        self.par[1] = beta\n",
    "        self.par[2] = Td\n",
    "    def spectrum(self,nu,beta=None,Td=None):\n",
    "        beta = self.par[1] if beta is None else beta\n",
    "        Td   = self.par[2] if Td is None else Td\n",
    "        return ((nu/self.nu_ref)**(beta + 1.))* \\\n",
    "            (np.exp(h*self.nu_ref*1.0e9/(kb*Td))-1.)/ \\\n",
    "            (np.exp(h*self.nu_ref*1.0e9/(kb*Td))-1.)\n",
    "    def model(self,nu):\n",
    "#         self.model = self.par[0]*self.spectrum(self.nu_ref)\n",
    "        return self.par[0]*self.spectrum(nu)\n",
    "    \n",
    "class cmb_comp:\n",
    "    def __init__(self,amplitude):\n",
    "        self.par = np.empty(1)\n",
    "        self.par[0] = amplitude\n",
    "    def spectrum(self,nu):\n",
    "        return Kcmb_to_Krj(nu)\n",
    "    def model(self,nu):\n",
    "        return self.par[0]*Kcmb_to_Krj(nu)\n",
    "    "
   ]
  },
  {
   "cell_type": "code",
   "execution_count": null,
   "id": "6c005ae9-d99f-4803-b982-59687f2ce704",
   "metadata": {},
   "outputs": [],
   "source": [
    "A_d   = 8.0\n",
    "A_cmb = 2.0\n",
    "A_s   = 12.0\n",
    "\n",
    "beta_s = -3.1\n",
    "beta_d = 1.6\n",
    "\n",
    "T_d    = 19.6\n",
    "\n",
    "nu_ref_s = 30.0\n",
    "nu_ref_d = 353.0\n",
    "\n",
    "synch = synch_comp(nu_ref_s,A_s,beta_s)\n",
    "dust  = dust_comp(nu_ref_d,A_d,beta_d,T_d)\n",
    "cmb   = cmb_comp(A_cmb)\n",
    "\n",
    "s_synch = np.empty(nbands)\n",
    "s_dust  = np.empty(nbands)\n",
    "s_cmb   = np.empty(nbands)\n",
    "n_nu    = np.empty(nbands)\n",
    "d_nu    = np.empty(nbands)\n",
    "\n",
    "for i in range(nbands):\n",
    "    s_synch[i] = synch.par[0]*synch.spectrum(freq[i])\n",
    "    s_dust[i]  = dust.par[0]*dust.spectrum(freq[i])\n",
    "    s_cmb[i]   = cmb.par[0]*cmb.spectrum(freq[i])\n",
    "    n_nu[i]    = np.random.normal(0.0,sigma[i])\n",
    "    \n",
    "d_nu = s_dust+s_synch+s_cmb+n_nu"
   ]
  },
  {
   "cell_type": "code",
   "execution_count": null,
   "id": "7c69a9e6-8075-472b-8b4f-ec8498344f14",
   "metadata": {},
   "outputs": [],
   "source": [
    "fig, ax = plt.subplots(figsize=(8,6))\n",
    "ax.plot(freq,s_synch,color='green',label='Synchrotron')\n",
    "ax.plot(freq,s_dust,color='red',label='Thermal Dust')\n",
    "ax.plot(freq,s_cmb,color='orange',label='CMB')\n",
    "ax.errorbar(freq,d_nu,yerr=sigma,fmt='.',color='k',label='Data')\n",
    "for i in range(nbands):\n",
    "    ax.axvline(freq[i],color='grey',alpha=0.5)\n",
    "plt.yscale('log')\n",
    "plt.xscale('log')\n",
    "ax.set_ylabel(r'$\\mu K_{\\rm RJ}$',size=15)\n",
    "ax.set_xlabel(r'GHz',size=15)\n",
    "ax.set_ylim([1e-2,1e2])\n",
    "plt.legend()\n",
    "plt.show()"
   ]
  },
  {
   "cell_type": "markdown",
   "id": "60b58910-2958-41c4-88e0-31b955a265bf",
   "metadata": {},
   "source": [
    "Now that we have simulated a more complex data model, something that better represents the real microwave sky, we can Gibbs sample the components!\n",
    "\n",
    "### Task 8\n",
    "- Gibbs sample all of the components ($A_{\\rm cmb}$, $A_{\\rm s}$, $A_{\\rm d}$, $\\beta_{\\rm s}$, $\\beta_{\\rm d}$, $T_{\\rm d}$).\n",
    "- Plot the chains for each of the parameters, as well as the residual ($\\sum_{\\nu}(d_{\\nu}-s_{\\nu})$) and the $\\chi^2$."
   ]
  },
  {
   "cell_type": "markdown",
   "id": "c25c86a5-2b5b-4f39-bc76-18f67fb7dd80",
   "metadata": {},
   "source": [
    "<div style=\"background-color:#e6f3ff; padding:10px; border-style:\n",
    "solid;; border-color:#0084ff; border-width:1px\">\n",
    "    \n",
    "### Solution"
   ]
  },
  {
   "cell_type": "code",
   "execution_count": null,
   "id": "7a07cb4a-ff38-4489-838d-db7774e19127",
   "metadata": {},
   "outputs": [],
   "source": [
    "def gibbs_sample(synch,dust,cmb,freq,data,sigma):\n",
    "    # Synchrotron sampling:\n",
    "    #---------------------- \n",
    "    d_to_sample = data-dust.model(freq)-cmb.model(freq)\n",
    "    # ^^ Remove the non-synch parts of the data we wish to fit\n",
    "    synch.par[1]  = inversion_sample(d_to_sample,sigma,freq,5,synch,1,np.linspace(-3.3,-2.9,100))[-1]\n",
    "    # Save what we drew\n",
    "    b_s = synch.par[1]\n",
    "    # Draw a sample and overwrite old parameter\n",
    "    synch.par[0]  = gaussian_sample(d_to_sample,sigma,synch.spectrum(freq),freq,1)[-1]\n",
    "    # Save what we drew\n",
    "    A_s = synch.par[0]\n",
    "    s_model = synch.model(freq)\n",
    "    \n",
    "    # Dust sampling:\n",
    "    #----------------------\n",
    "    d_to_sample = data-synch.model(freq)-cmb.model(freq)\n",
    "    # ^^ Remove the non-dust parts of the data we wish to fit\n",
    "    dust.par[0] = gaussian_sample(d_to_sample,sigma,dust.spectrum(freq),freq,1)[-1]\n",
    "    A_d = dust.par[0]\n",
    "    \n",
    "    dust.par[1]  = metropolis_sample(d_to_sample,sigma,freq,5,dust,1)[-1]\n",
    "#     dust.par[1] = inversion_sample(d_to_sample,sigma,freq,5,dust,1,np.linspace(1.4,1.8,100))[-1]\n",
    "    b_d = dust.par[1]\n",
    "    dust.par[2] = inversion_sample(d_to_sample,sigma,freq,5,dust,2,np.linspace(15.,25.,100))[-1]\n",
    "    T_d = dust.par[2]\n",
    "    \n",
    "    # CMB sampling:\n",
    "    #----------------------\n",
    "    d_to_sample = data - synch.model(freq)-dust.model(freq)\n",
    "    # ^^ Remove the non-CMB parts of the data we wish to fit\n",
    "    cmb.par[0] = gaussian_sample(d_to_sample,sigma,cmb.spectrum(freq),freq,1)[-1]\n",
    "    A_cmb = cmb.par[0]\n",
    "    \n",
    "    \n",
    "    \n",
    "    # Evaluate the model\n",
    "    model     = synch.model(freq)+dust.model(freq)+cmb.model(freq)\n",
    "    res       = sum(data-model)\n",
    "    # Evaluate the chisquare\n",
    "    chisq     = 0.0#-2.*eval_loglikelihood(d_synch,sigma,model,freq)\n",
    "    for j in range(nbands):\n",
    "        chisq += (data[j]-model[j])**2/sigma[j]**2\n",
    "    chisq = chisq/(nbands)\n",
    "    \n",
    "    return A_s, b_s, A_cmb, A_d, b_d, T_d, res, chisq"
   ]
  },
  {
   "cell_type": "code",
   "execution_count": null,
   "id": "8e1e2172-9ee7-4f20-99bc-dfff108da090",
   "metadata": {},
   "outputs": [],
   "source": [
    "from tqdm import tqdm\n",
    "\n",
    "ngibbs     = 5000\n",
    "A_s_samp   = np.zeros(ngibbs)\n",
    "b_s_samp   = np.zeros(ngibbs)\n",
    "A_cmb_samp = np.zeros(ngibbs)\n",
    "A_d_samp   = np.zeros(ngibbs)\n",
    "b_d_samp   = np.zeros(ngibbs)\n",
    "T_d_samp   = np.zeros(ngibbs)\n",
    "res_samp   = np.zeros(ngibbs)\n",
    "chisq_samp = np.zeros(ngibbs)\n",
    "\n",
    "for i in tqdm(range(ngibbs), desc=\"Gibbs sampling\"):\n",
    "# for i in range(ngibbs):\n",
    "    A_s_samp[i], b_s_samp[i], A_cmb_samp[i], A_d_samp[i], b_d_samp[i], T_d_samp[i], res_samp[i], chisq_samp[i] = gibbs_sample(synch,dust,cmb,freq,d_nu,sigma)"
   ]
  },
  {
   "cell_type": "code",
   "execution_count": null,
   "id": "14992cb7-d46c-48c9-b1e0-df760593da57",
   "metadata": {},
   "outputs": [],
   "source": [
    "iterations = np.linspace(1,ngibbs,ngibbs)\n",
    "\n",
    "fig, ax = plt.subplots(4,2,figsize=(12,12),sharex=True)\n",
    "ax[0][0].plot(iterations,A_s_samp); ax[0][0].axhline(A_s,color='k',linestyle='--'); ax[0][0].set_ylabel(r'$A_{\\rm s}$',size=15)\n",
    "ax[0][1].plot(iterations,b_s_samp); ax[0][1].axhline(beta_s,color='k',linestyle='--'); ax[0][1].set_ylabel(r'$\\beta_{\\rm s}$',size=15)\n",
    "ax[1][0].plot(iterations,A_d_samp); ax[1][0].axhline(A_d,color='k',linestyle='--'); ax[1][0].set_ylabel(r'$A_{\\rm d}$',size=15)\n",
    "ax[1][1].plot(iterations,b_d_samp); ax[1][1].axhline(beta_d,color='k',linestyle='--'); ax[1][1].set_ylabel(r'$\\beta_{\\rm d}$',size=15); ax[1][1].set_ylim([1.4,1.8])\n",
    "ax[2][0].plot(iterations,T_d_samp); ax[2][0].axhline(T_d,color='k',linestyle='--'); ax[2][0].set_ylabel(r'$T_{\\rm d}$',size=15)\n",
    "ax[2][1].plot(iterations,A_cmb_samp); ax[2][1].axhline(A_cmb,color='k',linestyle='--'); ax[2][1].set_ylabel(r'$A_{\\rm CMB}$',size=15)\n",
    "ax[3][0].plot(iterations,res_samp); ax[3][0].axhline(0.0,color='k',linestyle='--'); ax[3][0].set_ylabel(r'$\\sum_{\\nu}(d_{\\nu}-s_{\\nu}$',size=15)\n",
    "ax[3][1].plot(iterations,chisq_samp); ax[3][1].axhline(1.0,color='k',linestyle='--'); ax[3][1].set_ylabel(r'$\\chi^2$',size=15)\n",
    "plt.show()"
   ]
  },
  {
   "cell_type": "code",
   "execution_count": null,
   "id": "936c32f3-b080-4604-8cab-2839754c6cc6",
   "metadata": {},
   "outputs": [],
   "source": []
  }
 ],
 "metadata": {
  "kernelspec": {
   "display_name": "Python 3 (ipykernel)",
   "language": "python",
   "name": "python3"
  },
  "language_info": {
   "codemirror_mode": {
    "name": "ipython",
    "version": 3
   },
   "file_extension": ".py",
   "mimetype": "text/x-python",
   "name": "python",
   "nbconvert_exporter": "python",
   "pygments_lexer": "ipython3",
   "version": "3.9.6"
  }
 },
 "nbformat": 4,
 "nbformat_minor": 5
}
